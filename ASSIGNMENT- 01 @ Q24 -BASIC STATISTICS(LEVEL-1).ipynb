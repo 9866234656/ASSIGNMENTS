{
 "cells": [
  {
   "cell_type": "raw",
   "id": "69c906c3",
   "metadata": {},
   "source": [
    "A Government  company claims that an average light bulb lasts 270 days. A researcher randomly selects 18 bulbs for testing. The sampled bulbs last an average of 260 days, with a standard deviation of 90 days. If the CEO's claim were true, what is the probability that 18 randomly selected bulbs would have an average life of no more than 260 days\n",
    "Hint:  \n",
    "   rcode   pt(tscore,df)  \n",
    " df  degrees of freedom"
   ]
  },
  {
   "cell_type": "code",
   "execution_count": 1,
   "id": "9bce9f6b",
   "metadata": {
    "ExecuteTime": {
     "end_time": "2022-10-21T07:28:41.865237Z",
     "start_time": "2022-10-21T07:28:41.853997Z"
    }
   },
   "outputs": [],
   "source": [
    "from scipy import stats\n",
    "from scipy.stats import norm"
   ]
  },
  {
   "cell_type": "code",
   "execution_count": 2,
   "id": "0949f646",
   "metadata": {
    "ExecuteTime": {
     "end_time": "2022-10-21T07:28:41.895347Z",
     "start_time": "2022-10-21T07:28:41.869187Z"
    }
   },
   "outputs": [
    {
     "data": {
      "text/plain": [
       "-0.4714045207910317"
      ]
     },
     "execution_count": 2,
     "metadata": {},
     "output_type": "execute_result"
    }
   ],
   "source": [
    "t=(260-270)/(90/18**0.5) # finding t-score\n",
    "t                      "
   ]
  },
  {
   "cell_type": "code",
   "execution_count": 3,
   "id": "ca570098",
   "metadata": {
    "ExecuteTime": {
     "end_time": "2022-10-21T07:28:41.925838Z",
     "start_time": "2022-10-21T07:28:41.899519Z"
    }
   },
   "outputs": [
    {
     "data": {
      "text/plain": [
       "0.32167411684460556"
      ]
     },
     "execution_count": 3,
     "metadata": {},
     "output_type": "execute_result"
    }
   ],
   "source": [
    "p_value=1-stats.t.cdf(abs(-0.4714),df=17) # using cdf function  \n",
    "p_value"
   ]
  },
  {
   "cell_type": "code",
   "execution_count": 5,
   "id": "552d1ad4",
   "metadata": {
    "ExecuteTime": {
     "end_time": "2022-10-21T07:29:49.674685Z",
     "start_time": "2022-10-21T07:29:49.664817Z"
    }
   },
   "outputs": [
    {
     "data": {
      "text/plain": [
       "0.32167411684460556"
      ]
     },
     "execution_count": 5,
     "metadata": {},
     "output_type": "execute_result"
    }
   ],
   "source": [
    "p_value=stats.t.sf(abs(-0.4714),df=17)  # using sf function\n",
    "p_value"
   ]
  }
 ],
 "metadata": {
  "kernelspec": {
   "display_name": "Python 3 (ipykernel)",
   "language": "python",
   "name": "python3"
  },
  "language_info": {
   "codemirror_mode": {
    "name": "ipython",
    "version": 3
   },
   "file_extension": ".py",
   "mimetype": "text/x-python",
   "name": "python",
   "nbconvert_exporter": "python",
   "pygments_lexer": "ipython3",
   "version": "3.9.12"
  }
 },
 "nbformat": 4,
 "nbformat_minor": 5
}
