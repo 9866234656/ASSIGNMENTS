{
 "cells": [
  {
   "cell_type": "raw",
   "id": "cc5d5d3d",
   "metadata": {},
   "source": [
    "Q12) Below are the scores obtained by a student in tests 34,36,36,38,38,39,39,40,40,41,41,41,41,42,42,45,49,56\n",
    "\n",
    "1.Find mean, median, variance, standard deviation.\n",
    "2.What can we say about the student marks?"
   ]
  },
  {
   "cell_type": "code",
   "execution_count": 8,
   "id": "d1981048",
   "metadata": {
    "ExecuteTime": {
     "end_time": "2022-11-09T11:28:03.810192Z",
     "start_time": "2022-11-09T11:28:03.802164Z"
    }
   },
   "outputs": [],
   "source": [
    "import numpy as np\n",
    "import pandas as pd\n",
    "import matplotlib.pyplot as plt\n",
    "import seaborn as sns\n",
    "%matplotlib inline"
   ]
  },
  {
   "cell_type": "code",
   "execution_count": 9,
   "id": "aa876892",
   "metadata": {
    "ExecuteTime": {
     "end_time": "2022-11-09T11:28:03.825760Z",
     "start_time": "2022-11-09T11:28:03.812461Z"
    }
   },
   "outputs": [],
   "source": [
    "x=pd.Series([34,36,36,38,38,39,39,40,40,41,41,41,41,42,42,45,49,56])"
   ]
  },
  {
   "cell_type": "markdown",
   "id": "145fc626",
   "metadata": {},
   "source": [
    "##### MEAN"
   ]
  },
  {
   "cell_type": "code",
   "execution_count": 10,
   "id": "38437f69",
   "metadata": {
    "ExecuteTime": {
     "end_time": "2022-11-09T11:28:03.840606Z",
     "start_time": "2022-11-09T11:28:03.829121Z"
    }
   },
   "outputs": [
    {
     "data": {
      "text/plain": [
       "41.0"
      ]
     },
     "execution_count": 10,
     "metadata": {},
     "output_type": "execute_result"
    }
   ],
   "source": [
    "x.mean()"
   ]
  },
  {
   "cell_type": "markdown",
   "id": "f600d252",
   "metadata": {},
   "source": [
    "#####  MEDIAN"
   ]
  },
  {
   "cell_type": "code",
   "execution_count": 11,
   "id": "e2e08bdb",
   "metadata": {
    "ExecuteTime": {
     "end_time": "2022-11-09T11:28:03.856015Z",
     "start_time": "2022-11-09T11:28:03.843836Z"
    }
   },
   "outputs": [
    {
     "data": {
      "text/plain": [
       "40.5"
      ]
     },
     "execution_count": 11,
     "metadata": {},
     "output_type": "execute_result"
    }
   ],
   "source": [
    "x.median()"
   ]
  },
  {
   "cell_type": "markdown",
   "id": "aabf902a",
   "metadata": {},
   "source": [
    "##### VARIANCE"
   ]
  },
  {
   "cell_type": "code",
   "execution_count": 12,
   "id": "1c36f324",
   "metadata": {
    "ExecuteTime": {
     "end_time": "2022-11-09T11:28:03.871817Z",
     "start_time": "2022-11-09T11:28:03.859658Z"
    }
   },
   "outputs": [
    {
     "data": {
      "text/plain": [
       "25.529411764705884"
      ]
     },
     "execution_count": 12,
     "metadata": {},
     "output_type": "execute_result"
    }
   ],
   "source": [
    "x.var()"
   ]
  },
  {
   "cell_type": "markdown",
   "id": "b84f3686",
   "metadata": {},
   "source": [
    "##### STANDARD DEVIATION"
   ]
  },
  {
   "cell_type": "code",
   "execution_count": 13,
   "id": "9eb3c203",
   "metadata": {
    "ExecuteTime": {
     "end_time": "2022-11-09T11:28:03.887106Z",
     "start_time": "2022-11-09T11:28:03.873974Z"
    }
   },
   "outputs": [
    {
     "data": {
      "text/plain": [
       "5.05266382858645"
      ]
     },
     "execution_count": 13,
     "metadata": {},
     "output_type": "execute_result"
    }
   ],
   "source": [
    "x.std()"
   ]
  },
  {
   "cell_type": "markdown",
   "id": "3c7543f0",
   "metadata": {},
   "source": [
    "#####  BOXPLOT"
   ]
  },
  {
   "cell_type": "code",
   "execution_count": 14,
   "id": "9a586e7d",
   "metadata": {
    "ExecuteTime": {
     "end_time": "2022-11-09T11:28:04.058843Z",
     "start_time": "2022-11-09T11:28:03.892214Z"
    }
   },
   "outputs": [
    {
     "data": {
      "text/plain": [
       "{'whiskers': [<matplotlib.lines.Line2D at 0x1de04b4c7f0>,\n",
       "  <matplotlib.lines.Line2D at 0x1de04b4cac0>],\n",
       " 'caps': [<matplotlib.lines.Line2D at 0x1de04b4cd90>,\n",
       "  <matplotlib.lines.Line2D at 0x1de04b590a0>],\n",
       " 'boxes': [<matplotlib.lines.Line2D at 0x1de04b4c520>],\n",
       " 'medians': [<matplotlib.lines.Line2D at 0x1de04b59370>],\n",
       " 'fliers': [<matplotlib.lines.Line2D at 0x1de04b59640>],\n",
       " 'means': []}"
      ]
     },
     "execution_count": 14,
     "metadata": {},
     "output_type": "execute_result"
    },
    {
     "data": {
      "image/png": "[encoded data removed]",
      "text/plain": [
       "<Figure size 432x288 with 1 Axes>"
      ]
     },
     "metadata": {
      "needs_background": "light"
     },
     "output_type": "display_data"
    }
   ],
   "source": [
    "plt.boxplot(x)"
   ]
  },
  {
   "cell_type": "code",
   "execution_count": null,
   "id": "d4304be3",
   "metadata": {},
   "outputs": [],
   "source": []
  }
 ],
 "metadata": {
  "kernelspec": {
   "display_name": "Python 3 (ipykernel)",
   "language": "python",
   "name": "python3"
  },
  "language_info": {
   "codemirror_mode": {
    "name": "ipython",
    "version": 3
   },
   "file_extension": ".py",
   "mimetype": "text/x-python",
   "name": "python",
   "nbconvert_exporter": "python",
   "pygments_lexer": "ipython3",
   "version": "3.9.12"
  }
 },
 "nbformat": 4,
 "nbformat_minor": 5
}
