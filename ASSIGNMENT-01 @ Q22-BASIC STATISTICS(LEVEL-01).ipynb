{
 "cells": [
  {
   "cell_type": "raw",
   "id": "b9a23630",
   "metadata": {},
   "source": [
    "Q 22) Calculate the Z scores of 90% confidence interval,94% confidence interval, 60% confidence interval for Adipose Tissue (AT) and Waist Circumference(Waist) from wc-at data set"
   ]
  },
  {
   "cell_type": "code",
   "execution_count": 1,
   "id": "3bf659b8",
   "metadata": {
    "ExecuteTime": {
     "end_time": "2022-11-09T14:30:49.307790Z",
     "start_time": "2022-11-09T14:30:49.007035Z"
    }
   },
   "outputs": [],
   "source": [
    "from scipy import stats\n",
    "from scipy.stats import norm "
   ]
  },
  {
   "cell_type": "code",
   "execution_count": 2,
   "id": "7340ebd5",
   "metadata": {
    "ExecuteTime": {
     "end_time": "2022-11-09T14:30:49.323344Z",
     "start_time": "2022-11-09T14:30:49.308817Z"
    }
   },
   "outputs": [
    {
     "data": {
      "text/plain": [
       "1.6448536269514722"
      ]
     },
     "execution_count": 2,
     "metadata": {},
     "output_type": "execute_result"
    }
   ],
   "source": [
    "# Z-score of 90% confidence interval \n",
    "stats.norm.ppf(0.95)"
   ]
  },
  {
   "cell_type": "code",
   "execution_count": 3,
   "id": "c7f5ac74",
   "metadata": {
    "ExecuteTime": {
     "end_time": "2022-11-09T14:30:49.339329Z",
     "start_time": "2022-11-09T14:30:49.325329Z"
    }
   },
   "outputs": [
    {
     "data": {
      "text/plain": [
       "1.8807936081512509"
      ]
     },
     "execution_count": 3,
     "metadata": {},
     "output_type": "execute_result"
    }
   ],
   "source": [
    "# Z-score of 94% confidence interval\n",
    "stats.norm.ppf(0.97)"
   ]
  },
  {
   "cell_type": "code",
   "execution_count": 4,
   "id": "17afc8e2",
   "metadata": {
    "ExecuteTime": {
     "end_time": "2022-11-09T14:30:49.355477Z",
     "start_time": "2022-11-09T14:30:49.342332Z"
    }
   },
   "outputs": [
    {
     "data": {
      "text/plain": [
       "0.8416212335729143"
      ]
     },
     "execution_count": 4,
     "metadata": {},
     "output_type": "execute_result"
    }
   ],
   "source": [
    "# Z-score of 60% confidence interval\n",
    "stats.norm.ppf(0.8)"
   ]
  },
  {
   "cell_type": "code",
   "execution_count": null,
   "id": "64e5ba74",
   "metadata": {},
   "outputs": [],
   "source": []
  }
 ],
 "metadata": {
  "kernelspec": {
   "display_name": "Python 3 (ipykernel)",
   "language": "python",
   "name": "python3"
  },
  "language_info": {
   "codemirror_mode": {
    "name": "ipython",
    "version": 3
   },
   "file_extension": ".py",
   "mimetype": "text/x-python",
   "name": "python",
   "nbconvert_exporter": "python",
   "pygments_lexer": "ipython3",
   "version": "3.9.12"
  }
 },
 "nbformat": 4,
 "nbformat_minor": 5
}
