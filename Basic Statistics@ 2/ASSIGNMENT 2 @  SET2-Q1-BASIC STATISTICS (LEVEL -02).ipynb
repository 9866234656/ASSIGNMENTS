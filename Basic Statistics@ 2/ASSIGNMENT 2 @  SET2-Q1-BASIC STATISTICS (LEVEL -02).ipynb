{
 "cells": [
  {
   "cell_type": "raw",
   "id": "f56e3868",
   "metadata": {},
   "source": [
    "1.The time required for servicing transmissions is normally distributed with  = 45 minutes and  = 8 minutes. The service manager plans to have work begin on the transmission of a customer’s car 10 minutes after the car is dropped off and the customer is told that the car will be ready within 1 hour from drop-off. What is the probability that the service manager cannot meet his commitment? \n",
    "\n",
    "A.0.3875   \n",
    "B.0.2676   \n",
    "C.0.5   \n",
    "D.0.6987 \n"
   ]
  },
  {
   "cell_type": "code",
   "execution_count": 3,
   "id": "c515dd59",
   "metadata": {
    "ExecuteTime": {
     "end_time": "2022-10-13T05:02:10.404825Z",
     "start_time": "2022-10-13T05:02:10.388845Z"
    }
   },
   "outputs": [],
   "source": [
    "from scipy import stats\n",
    "from scipy.stats import norm "
   ]
  },
  {
   "cell_type": "code",
   "execution_count": 4,
   "id": "8ec0e7cf",
   "metadata": {
    "ExecuteTime": {
     "end_time": "2022-10-13T05:02:13.661349Z",
     "start_time": "2022-10-13T05:02:13.639036Z"
    }
   },
   "outputs": [
    {
     "data": {
      "text/plain": [
       "0.625"
      ]
     },
     "execution_count": 4,
     "metadata": {},
     "output_type": "execute_result"
    }
   ],
   "source": [
    "# To find Z score at X=50; Z=(X- µ) / σ \n",
    "\n",
    "Z=(50-45)/8\n",
    "Z"
   ]
  },
  {
   "cell_type": "code",
   "execution_count": 5,
   "id": "b6ef2415",
   "metadata": {
    "ExecuteTime": {
     "end_time": "2022-10-13T05:02:16.572169Z",
     "start_time": "2022-10-13T05:02:16.553927Z"
    }
   },
   "outputs": [
    {
     "data": {
      "text/plain": [
       "0.26598552904870054"
      ]
     },
     "execution_count": 5,
     "metadata": {},
     "output_type": "execute_result"
    }
   ],
   "source": [
    " #  Find the P(X>50) = 1-stats.norm.cdf(abs(z_score))\n",
    "    \n",
    "1-stats.norm.cdf(abs(0.625))    "
   ]
  },
  {
   "cell_type": "code",
   "execution_count": 6,
   "id": "58d2e549",
   "metadata": {
    "ExecuteTime": {
     "end_time": "2022-10-13T05:09:06.088539Z",
     "start_time": "2022-10-13T05:09:06.070149Z"
    }
   },
   "outputs": [
    {
     "data": {
      "text/plain": [
       "0.7340144709512995"
      ]
     },
     "execution_count": 6,
     "metadata": {},
     "output_type": "execute_result"
    }
   ],
   "source": [
    " # OR Find the P(X<=50); p_value=stats.norm.cdf(abs(z_score))\n",
    "    \n",
    "p_value = stats.norm.cdf(abs(0.625))\n",
    "p_value   "
   ]
  },
  {
   "cell_type": "code",
   "execution_count": 7,
   "id": "be5bf4d5",
   "metadata": {
    "ExecuteTime": {
     "end_time": "2022-10-13T05:11:35.857283Z",
     "start_time": "2022-10-13T05:11:35.840542Z"
    }
   },
   "outputs": [
    {
     "data": {
      "text/plain": [
       "0.266"
      ]
     },
     "execution_count": 7,
     "metadata": {},
     "output_type": "execute_result"
    }
   ],
   "source": [
    "# P(X>50) = 1-P(x<=50)\n",
    "\n",
    "1-0.7340"
   ]
  }
 ],
 "metadata": {
  "kernelspec": {
   "display_name": "Python 3 (ipykernel)",
   "language": "python",
   "name": "python3"
  },
  "language_info": {
   "codemirror_mode": {
    "name": "ipython",
    "version": 3
   },
   "file_extension": ".py",
   "mimetype": "text/x-python",
   "name": "python",
   "nbconvert_exporter": "python",
   "pygments_lexer": "ipython3",
   "version": "3.9.12"
  }
 },
 "nbformat": 4,
 "nbformat_minor": 5
}
