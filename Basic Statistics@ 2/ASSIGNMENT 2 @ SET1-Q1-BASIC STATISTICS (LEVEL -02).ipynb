{
 "cells": [
  {
   "cell_type": "raw",
   "id": "a167a54f",
   "metadata": {},
   "source": [
    "Look at the data given below. Plot the data, find the outliers and find out  \n",
    "\n",
    "Name of company\tMeasure X\n",
    "Allied Signal\t24.23%\n",
    "Bankers Trust\t25.53%\n",
    "General Mills\t25.41%\n",
    "ITT Industries\t24.14%\n",
    "J.P.Morgan & Co.\t29.62%\n",
    "Lehman Brothers\t28.25%\n",
    "Marriott\t25.81%\n",
    "MCI\t24.39%\n",
    "Merrill Lynch\t40.26%\n",
    "Microsoft\t32.95%\n",
    "Morgan Stanley\t91.36%\n",
    "Sun Microsystems\t25.99%\n",
    "Travelers\t39.42%\n",
    "US Airways\t26.71%\n",
    "Warner-Lambert\t35.00%"
   ]
  },
  {
   "cell_type": "code",
   "execution_count": 57,
   "id": "4e0ba682",
   "metadata": {
    "ExecuteTime": {
     "end_time": "2022-10-13T13:25:33.191935Z",
     "start_time": "2022-10-13T13:25:33.178486Z"
    }
   },
   "outputs": [],
   "source": [
    "import pandas as pd \n",
    "import numpy as np\n",
    "import statistics as stats\n",
    "import matplotlib.pyplot as plt\n",
    "import seaborn as sns"
   ]
  },
  {
   "cell_type": "code",
   "execution_count": 46,
   "id": "e1857d2e",
   "metadata": {
    "ExecuteTime": {
     "end_time": "2022-10-13T13:19:06.085065Z",
     "start_time": "2022-10-13T13:19:06.076931Z"
    }
   },
   "outputs": [],
   "source": [
    "x=pd.Series=([24.23,25.53,25.41,29.62,28.25,25.81,24.39,40.26,32.95,91.36,25.99,39.42,26.71,35.00])"
   ]
  },
  {
   "cell_type": "code",
   "execution_count": 6,
   "id": "1946d54a",
   "metadata": {
    "ExecuteTime": {
     "end_time": "2022-10-13T12:16:16.785627Z",
     "start_time": "2022-10-13T12:16:16.764642Z"
    }
   },
   "outputs": [],
   "source": [
    "name=['Allied Signal','Bankers Trust','General Milk','ITT Industries','J.P.Morgan & Co','Lehman Brothers','Marriott','MCI','Merrill','Microsoft','Morgan Stanley','Sun Microsystems','Travelers','US Airways','Warner-Lambert']"
   ]
  },
  {
   "cell_type": "code",
   "execution_count": 52,
   "id": "a65716ed",
   "metadata": {
    "ExecuteTime": {
     "end_time": "2022-10-13T13:22:37.863589Z",
     "start_time": "2022-10-13T13:22:37.851096Z"
    }
   },
   "outputs": [],
   "source": [
    "import warnings\n",
    "warnings.filterwarnings('ignore')"
   ]
  },
  {
   "cell_type": "code",
   "execution_count": 53,
   "id": "c0acc9b8",
   "metadata": {
    "ExecuteTime": {
     "end_time": "2022-10-13T13:22:58.923955Z",
     "start_time": "2022-10-13T13:22:58.747052Z"
    }
   },
   "outputs": [
    {
     "data": {
      "text/plain": [
       "<AxesSubplot:>"
      ]
     },
     "execution_count": 53,
     "metadata": {},
     "output_type": "execute_result"
    },
    {
     "data": {
      "image/png": "[encoded data removed]",
      "text/plain": [
       "<Figure size 432x288 with 1 Axes>"
      ]
     },
     "metadata": {
      "needs_background": "light"
     },
     "output_type": "display_data"
    }
   ],
   "source": [
    "# Box plot to find out liars\n",
    "\n",
    "sns.boxplot(x)"
   ]
  },
  {
   "cell_type": "code",
   "execution_count": 58,
   "id": "95d2a9c1",
   "metadata": {
    "ExecuteTime": {
     "end_time": "2022-10-13T13:25:37.164787Z",
     "start_time": "2022-10-13T13:25:37.149381Z"
    }
   },
   "outputs": [
    {
     "data": {
      "text/plain": [
       "33.92357142857143"
      ]
     },
     "execution_count": 58,
     "metadata": {},
     "output_type": "execute_result"
    }
   ],
   "source": [
    "stats.mean(x)   # MEAN    "
   ]
  },
  {
   "cell_type": "code",
   "execution_count": 59,
   "id": "fdad4acd",
   "metadata": {
    "ExecuteTime": {
     "end_time": "2022-10-13T13:26:05.019032Z",
     "start_time": "2022-10-13T13:26:05.009242Z"
    }
   },
   "outputs": [
    {
     "data": {
      "text/plain": [
       "302.3627324175824"
      ]
     },
     "execution_count": 59,
     "metadata": {},
     "output_type": "execute_result"
    }
   ],
   "source": [
    "stats.variance(x)       # VARIANCE"
   ]
  },
  {
   "cell_type": "code",
   "execution_count": 62,
   "id": "65b7773d",
   "metadata": {
    "ExecuteTime": {
     "end_time": "2022-10-13T13:27:15.823837Z",
     "start_time": "2022-10-13T13:27:15.814992Z"
    }
   },
   "outputs": [
    {
     "data": {
      "text/plain": [
       "17.388580517615072"
      ]
     },
     "execution_count": 62,
     "metadata": {},
     "output_type": "execute_result"
    }
   ],
   "source": [
    "stats.stdev(x)         # STANDARD DEVIATION"
   ]
  },
  {
   "cell_type": "code",
   "execution_count": null,
   "id": "c8514d0e",
   "metadata": {},
   "outputs": [],
   "source": []
  }
 ],
 "metadata": {
  "kernelspec": {
   "display_name": "Python 3 (ipykernel)",
   "language": "python",
   "name": "python3"
  },
  "language_info": {
   "codemirror_mode": {
    "name": "ipython",
    "version": 3
   },
   "file_extension": ".py",
   "mimetype": "text/x-python",
   "name": "python",
   "nbconvert_exporter": "python",
   "pygments_lexer": "ipython3",
   "version": "3.9.12"
  }
 },
 "nbformat": 4,
 "nbformat_minor": 5
}
