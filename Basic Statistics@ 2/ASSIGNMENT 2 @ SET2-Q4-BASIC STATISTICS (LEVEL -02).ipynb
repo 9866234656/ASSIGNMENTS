{
 "cells": [
  {
   "cell_type": "raw",
   "id": "6e1a46ef",
   "metadata": {},
   "source": [
    "Let X ~ N(100, 20^2). Find two values, a and b, symmetric about the mean, such that the probability of the random variable taking a value between them is 0.99."
   ]
  },
  {
   "cell_type": "code",
   "execution_count": 1,
   "id": "c2fadcf4",
   "metadata": {
    "ExecuteTime": {
     "end_time": "2022-11-10T14:22:36.470317Z",
     "start_time": "2022-11-10T14:22:36.456987Z"
    }
   },
   "outputs": [],
   "source": [
    "from scipy import stats\n",
    "from scipy.stats import norm"
   ]
  },
  {
   "cell_type": "code",
   "execution_count": 2,
   "id": "c574ea22",
   "metadata": {
    "ExecuteTime": {
     "end_time": "2022-11-10T14:22:38.589494Z",
     "start_time": "2022-11-10T14:22:38.579020Z"
    }
   },
   "outputs": [
    {
     "data": {
      "text/plain": [
       "(48.48341392902199, 151.516586070978)"
      ]
     },
     "execution_count": 2,
     "metadata": {},
     "output_type": "execute_result"
    }
   ],
   "source": [
    "stats.norm.interval(0.99,100,20)"
   ]
  },
  {
   "cell_type": "code",
   "execution_count": null,
   "id": "8977fc57",
   "metadata": {},
   "outputs": [],
   "source": []
  }
 ],
 "metadata": {
  "kernelspec": {
   "display_name": "Python 3 (ipykernel)",
   "language": "python",
   "name": "python3"
  },
  "language_info": {
   "codemirror_mode": {
    "name": "ipython",
    "version": 3
   },
   "file_extension": ".py",
   "mimetype": "text/x-python",
   "name": "python",
   "nbconvert_exporter": "python",
   "pygments_lexer": "ipython3",
   "version": "3.9.12"
  }
 },
 "nbformat": 4,
 "nbformat_minor": 5
}
