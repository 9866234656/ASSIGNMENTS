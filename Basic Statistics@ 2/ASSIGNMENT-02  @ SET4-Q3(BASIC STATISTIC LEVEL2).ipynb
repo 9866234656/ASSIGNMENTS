{
 "cells": [
  {
   "cell_type": "raw",
   "id": "adbdc20a",
   "metadata": {},
   "source": [
    "Auditors at a small community bank randomly sample 100 withdrawal transactions made during the week at an ATM machine located near the bank’s main branch. Over the past 2 years, the average withdrawal amount has been $50 with a standard deviation of $40. Since audit investigations are typically expensive, the auditors decide to not initiate further investigations if the mean transaction amount of the sample is between $45 and $55. What is the probability that in any given week, there will be an investigation?\n",
    "\n",
    "A.1.25%\n",
    "B.2.5%\n",
    "C.10.55%\n",
    "D.21.1%\n",
    "E.50%"
   ]
  },
  {
   "cell_type": "code",
   "execution_count": 1,
   "id": "3afcbaac",
   "metadata": {
    "ExecuteTime": {
     "end_time": "2022-10-12T16:51:39.347084Z",
     "start_time": "2022-10-12T16:51:39.327891Z"
    }
   },
   "outputs": [],
   "source": [
    "import numpy as np\n",
    "from scipy import stats\n",
    "from scipy.stats import norm"
   ]
  },
  {
   "cell_type": "code",
   "execution_count": null,
   "id": "d06c95d5",
   "metadata": {},
   "outputs": [],
   "source": [
    " # For No investigation P(45<X<55)\n",
    " # For Investigation 1-P(45<X<55)  "
   ]
  },
  {
   "cell_type": "code",
   "execution_count": 3,
   "id": "68705e5d",
   "metadata": {
    "ExecuteTime": {
     "end_time": "2022-10-12T16:54:35.005814Z",
     "start_time": "2022-10-12T16:54:34.989503Z"
    }
   },
   "outputs": [
    {
     "data": {
      "text/plain": [
       "-1.25"
      ]
     },
     "execution_count": 3,
     "metadata": {},
     "output_type": "execute_result"
    }
   ],
   "source": [
    "# find z-score at x=45; z=(s_mean-P_mean)/(p_SD/sqrt(n))\n",
    "\n",
    "z=(45-50)/(40/100**0.5)\n",
    "z"
   ]
  },
  {
   "cell_type": "code",
   "execution_count": 4,
   "id": "4e77a5d3",
   "metadata": {
    "ExecuteTime": {
     "end_time": "2022-10-12T16:54:54.023489Z",
     "start_time": "2022-10-12T16:54:54.015922Z"
    }
   },
   "outputs": [
    {
     "data": {
      "text/plain": [
       "1.25"
      ]
     },
     "execution_count": 4,
     "metadata": {},
     "output_type": "execute_result"
    }
   ],
   "source": [
    "# find z-scores at x=55; z=(s_mean-P_mean)/(p_SD/sqrt(n))\n",
    "\n",
    "z=(55-50)/(40/100**0.5)\n",
    "z"
   ]
  },
  {
   "cell_type": "code",
   "execution_count": 5,
   "id": "688ced6c",
   "metadata": {
    "ExecuteTime": {
     "end_time": "2022-10-12T16:55:35.817254Z",
     "start_time": "2022-10-12T16:55:35.797269Z"
    }
   },
   "outputs": [
    {
     "data": {
      "text/plain": [
       "0.7887004526662893"
      ]
     },
     "execution_count": 5,
     "metadata": {},
     "output_type": "execute_result"
    }
   ],
   "source": [
    "# For No investigation P(45<X<55) using z_scores = P(X<50)-P(X<45)\n",
    "\n",
    "stats.norm.cdf(1.25)-stats.norm.cdf(-1.25)"
   ]
  },
  {
   "cell_type": "code",
   "execution_count": 6,
   "id": "bb922c2e",
   "metadata": {
    "ExecuteTime": {
     "end_time": "2022-10-12T16:55:49.426491Z",
     "start_time": "2022-10-12T16:55:49.414173Z"
    }
   },
   "outputs": [
    {
     "data": {
      "text/plain": [
       "(45.00000495667348, 54.99999504332652)"
      ]
     },
     "execution_count": 6,
     "metadata": {},
     "output_type": "execute_result"
    }
   ],
   "source": [
    "stats.norm.interval(0.7887,loc=50,scale=40/(100**0.5))"
   ]
  },
  {
   "cell_type": "code",
   "execution_count": 7,
   "id": "ecba1423",
   "metadata": {
    "ExecuteTime": {
     "end_time": "2022-10-12T16:56:17.320752Z",
     "start_time": "2022-10-12T16:56:17.301159Z"
    }
   },
   "outputs": [
    {
     "data": {
      "text/plain": [
       "0.21130000000000004"
      ]
     },
     "execution_count": 7,
     "metadata": {},
     "output_type": "execute_result"
    }
   ],
   "source": [
    "# For Investigation 1-P(45<X<55)\n",
    "\n",
    "1-0.7887"
   ]
  }
 ],
 "metadata": {
  "kernelspec": {
   "display_name": "Python 3 (ipykernel)",
   "language": "python",
   "name": "python3"
  },
  "language_info": {
   "codemirror_mode": {
    "name": "ipython",
    "version": 3
   },
   "file_extension": ".py",
   "mimetype": "text/x-python",
   "name": "python",
   "nbconvert_exporter": "python",
   "pygments_lexer": "ipython3",
   "version": "3.9.12"
  }
 },
 "nbformat": 4,
 "nbformat_minor": 5
}
