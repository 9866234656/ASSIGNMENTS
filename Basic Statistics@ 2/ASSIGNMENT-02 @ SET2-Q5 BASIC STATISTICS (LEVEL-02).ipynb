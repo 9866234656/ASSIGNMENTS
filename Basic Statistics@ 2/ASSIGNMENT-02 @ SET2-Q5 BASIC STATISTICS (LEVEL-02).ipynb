{
 "cells": [
  {
   "cell_type": "raw",
   "id": "f2853acf",
   "metadata": {},
   "source": [
    "Consider a company that has two different divisions. The annual profits from the two divisions are independent and have distributions Profit1 ~ N(5, 32) and Profit2 ~ N(7, 42) respectively. Both the profits are in $ Million. Answer the following questions about the total profit of the company in Rupees. Assume that $1 = Rs. 45\n",
    "\n",
    "A. Specify a Rupee range (centered on the mean) such that it contains 95%          probability for the annual profit of the company.\n",
    "B. Specify the 5th percentile of profit (in Rupees) for the company\n",
    "C. Which of the two divisions has a larger probability of making a loss in a given year?"
   ]
  },
  {
   "cell_type": "code",
   "execution_count": 12,
   "id": "c057f7af",
   "metadata": {
    "ExecuteTime": {
     "end_time": "2022-10-12T15:27:21.456101Z",
     "start_time": "2022-10-12T15:27:21.436150Z"
    }
   },
   "outputs": [],
   "source": [
    "import numpy as np\n",
    "from scipy import stats  \n",
    "from scipy.stats import norm\n"
   ]
  },
  {
   "cell_type": "code",
   "execution_count": 13,
   "id": "fabb3743",
   "metadata": {
    "ExecuteTime": {
     "end_time": "2022-10-12T15:27:21.486042Z",
     "start_time": "2022-10-12T15:27:21.461098Z"
    }
   },
   "outputs": [
    {
     "name": "stdout",
     "output_type": "stream",
     "text": [
      "Mean Profit is Rs 540 Million\n"
     ]
    }
   ],
   "source": [
    "# Mean profits from two different divisions of a company = Mean1 + Mean2\n",
    "\n",
    "Mean = 5+7 \n",
    "print('Mean Profit is Rs', Mean*45,'Million')"
   ]
  },
  {
   "cell_type": "code",
   "execution_count": 14,
   "id": "a004afa2",
   "metadata": {
    "ExecuteTime": {
     "end_time": "2022-10-12T15:27:21.501970Z",
     "start_time": "2022-10-12T15:27:21.490037Z"
    }
   },
   "outputs": [
    {
     "name": "stdout",
     "output_type": "stream",
     "text": [
      "Standard Deviation is Rs 225.0 Million\n"
     ]
    }
   ],
   "source": [
    "# Variance of profits from two different divisions of a company = SD^2 = SD1^2 + SD2^2\n",
    "\n",
    "SD=np.sqrt((9)+(16))\n",
    "print('Standard Deviation is Rs',SD*45,'Million')"
   ]
  },
  {
   "cell_type": "code",
   "execution_count": 15,
   "id": "f52baab8",
   "metadata": {
    "ExecuteTime": {
     "end_time": "2022-10-12T15:27:21.517383Z",
     "start_time": "2022-10-12T15:27:21.506976Z"
    }
   },
   "outputs": [
    {
     "name": "stdout",
     "output_type": "stream",
     "text": [
      "Range is Rs (99.00810347848784, 980.9918965215122) in Millions\n"
     ]
    }
   ],
   "source": [
    "#  A. Specify a Rupee range (centered on the mean) such that it contains 95% probability for the annual profit of the company.\n",
    " \n",
    "print('Range is Rs',(stats.norm.interval(0.95,540,225)),'in Millions')"
   ]
  },
  {
   "cell_type": "code",
   "execution_count": 16,
   "id": "e3af0f66",
   "metadata": {
    "ExecuteTime": {
     "end_time": "2022-10-12T15:27:21.531868Z",
     "start_time": "2022-10-12T15:27:21.522824Z"
    }
   },
   "outputs": [
    {
     "name": "stdout",
     "output_type": "stream",
     "text": [
      "5th percentail of profit( in Million Rs) is 170.0\n"
     ]
    }
   ],
   "source": [
    "#  B. Specify the 5th percentile of profit (in Rupees) for the company\n",
    "# To compute 5th Percentile, we use the formula X=μ + Zσ; wherein from z table, 5 percentile= -1.645\n",
    "\n",
    "X=540+(-1.645)*(225)\n",
    "print('5th percentail of profit( in Million Rs) is',np.round(X,))"
   ]
  },
  {
   "cell_type": "code",
   "execution_count": 17,
   "id": "392b9a2f",
   "metadata": {
    "ExecuteTime": {
     "end_time": "2022-10-12T15:27:21.547477Z",
     "start_time": "2022-10-12T15:27:21.537132Z"
    }
   },
   "outputs": [],
   "source": [
    "# C. Which of the two divisions has a larger probability of making a loss in a given year?"
   ]
  },
  {
   "cell_type": "code",
   "execution_count": 18,
   "id": "bfd193bf",
   "metadata": {
    "ExecuteTime": {
     "end_time": "2022-10-12T15:27:21.562698Z",
     "start_time": "2022-10-12T15:27:21.552728Z"
    }
   },
   "outputs": [
    {
     "data": {
      "text/plain": [
       "0.0477903522728147"
      ]
     },
     "execution_count": 18,
     "metadata": {},
     "output_type": "execute_result"
    }
   ],
   "source": [
    "stats.norm.cdf(0,5,3) # p(division 1 making a loss) i.e., p(X<0)"
   ]
  },
  {
   "cell_type": "code",
   "execution_count": 19,
   "id": "2559333d",
   "metadata": {
    "ExecuteTime": {
     "end_time": "2022-10-12T15:27:21.578648Z",
     "start_time": "2022-10-12T15:27:21.566721Z"
    }
   },
   "outputs": [
    {
     "data": {
      "text/plain": [
       "0.040059156863817086"
      ]
     },
     "execution_count": 19,
     "metadata": {},
     "output_type": "execute_result"
    }
   ],
   "source": [
    "stats.norm.cdf(0,7,4) # p( division 2 making a loss) i.e.,  p(X<0)"
   ]
  },
  {
   "cell_type": "code",
   "execution_count": null,
   "id": "37f2d095",
   "metadata": {},
   "outputs": [],
   "source": []
  }
 ],
 "metadata": {
  "kernelspec": {
   "display_name": "Python 3 (ipykernel)",
   "language": "python",
   "name": "python3"
  },
  "language_info": {
   "codemirror_mode": {
    "name": "ipython",
    "version": 3
   },
   "file_extension": ".py",
   "mimetype": "text/x-python",
   "name": "python",
   "nbconvert_exporter": "python",
   "pygments_lexer": "ipython3",
   "version": "3.9.12"
  }
 },
 "nbformat": 4,
 "nbformat_minor": 5
}
