{
 "cells": [
  {
   "cell_type": "raw",
   "id": "ba347a90",
   "metadata": {},
   "source": [
    "The current age (in years) of 400 clerical employees at an insurance claims processing center is normally distributed with mean  = 38 and Standard deviation  =6. For each statement below, please specify True/False. If false, briefly explain why.\n",
    "A.More employees at the processing center are older than 44 than between 38 and 44.\n",
    "B.A training program for employees under the age of 30 at the center would be expected to attract about 36 employees.\n"
   ]
  },
  {
   "cell_type": "code",
   "execution_count": 1,
   "id": "d80edd40",
   "metadata": {
    "ExecuteTime": {
     "end_time": "2022-10-12T17:36:45.613916Z",
     "start_time": "2022-10-12T17:36:45.595496Z"
    }
   },
   "outputs": [],
   "source": [
    "from  scipy import stats\n",
    "from scipy.stats import norm"
   ]
  },
  {
   "cell_type": "code",
   "execution_count": null,
   "id": "f8e3199e",
   "metadata": {},
   "outputs": [],
   "source": [
    "# A. More employees at the processing center are older than 44 than between 38 and 44.\n"
   ]
  },
  {
   "cell_type": "code",
   "execution_count": 2,
   "id": "fdba4db0",
   "metadata": {
    "ExecuteTime": {
     "end_time": "2022-10-12T17:42:11.848665Z",
     "start_time": "2022-10-12T17:42:11.820118Z"
    }
   },
   "outputs": [
    {
     "data": {
      "text/plain": [
       "0.15865525393145707"
      ]
     },
     "execution_count": 2,
     "metadata": {},
     "output_type": "execute_result"
    }
   ],
   "source": [
    "# p(X>44); Employees older than 44yrs of age\n",
    "\n",
    "1-stats.norm.cdf(44,loc=38,scale=6)"
   ]
  },
  {
   "cell_type": "code",
   "execution_count": 3,
   "id": "b4aa7158",
   "metadata": {
    "ExecuteTime": {
     "end_time": "2022-10-12T17:44:35.117727Z",
     "start_time": "2022-10-12T17:44:35.106049Z"
    }
   },
   "outputs": [
    {
     "data": {
      "text/plain": [
       "0.3413447460685429"
      ]
     },
     "execution_count": 3,
     "metadata": {},
     "output_type": "execute_result"
    }
   ],
   "source": [
    "# p(38<X<44); Employees age b/n 38 to 44yrs\n",
    "\n",
    "stats.norm.cdf(44,38,6)-stats.norm.cdf(38,38,6)"
   ]
  },
  {
   "cell_type": "code",
   "execution_count": null,
   "id": "1c0145b8",
   "metadata": {},
   "outputs": [],
   "source": [
    "# B.  A training program for employees under the age of 30 at the center would be expected to attract about 36 employees.\n"
   ]
  },
  {
   "cell_type": "code",
   "execution_count": 4,
   "id": "2de7eec7",
   "metadata": {
    "ExecuteTime": {
     "end_time": "2022-10-12T18:01:07.261971Z",
     "start_time": "2022-10-12T18:01:07.237847Z"
    }
   },
   "outputs": [
    {
     "data": {
      "text/plain": [
       "0.09121121972586788"
      ]
     },
     "execution_count": 4,
     "metadata": {},
     "output_type": "execute_result"
    }
   ],
   "source": [
    "# P(X<30); Employees under 30yrs\n",
    "stats.norm.cdf(30,38,6)"
   ]
  },
  {
   "cell_type": "code",
   "execution_count": 6,
   "id": "3272a31a",
   "metadata": {
    "ExecuteTime": {
     "end_time": "2022-10-12T18:06:09.537722Z",
     "start_time": "2022-10-12T18:06:09.522548Z"
    }
   },
   "outputs": [
    {
     "data": {
      "text/plain": [
       "36.484487890347154"
      ]
     },
     "execution_count": 6,
     "metadata": {},
     "output_type": "execute_result"
    }
   ],
   "source": [
    "# no.of employees attending training program from 400 no.'s is N*P(X<30)\n",
    "\n",
    "400*stats.norm.cdf(30,38,6)"
   ]
  },
  {
   "cell_type": "code",
   "execution_count": null,
   "id": "e2c00d25",
   "metadata": {},
   "outputs": [],
   "source": []
  },
  {
   "cell_type": "code",
   "execution_count": null,
   "id": "b829900b",
   "metadata": {},
   "outputs": [],
   "source": []
  }
 ],
 "metadata": {
  "kernelspec": {
   "display_name": "Python 3 (ipykernel)",
   "language": "python",
   "name": "python3"
  },
  "language_info": {
   "codemirror_mode": {
    "name": "ipython",
    "version": 3
   },
   "file_extension": ".py",
   "mimetype": "text/x-python",
   "name": "python",
   "nbconvert_exporter": "python",
   "pygments_lexer": "ipython3",
   "version": "3.9.12"
  }
 },
 "nbformat": 4,
 "nbformat_minor": 5
}
