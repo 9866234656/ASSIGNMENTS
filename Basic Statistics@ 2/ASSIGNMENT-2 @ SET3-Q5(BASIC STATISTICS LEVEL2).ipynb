{
 "cells": [
  {
   "cell_type": "raw",
   "id": "388a7180",
   "metadata": {},
   "source": [
    "In January 2005, a company that monitors Internet traffic (WebSideStory) reported that its sampling revealed that the Mozilla Firefox browser launched in 2004 had grabbed a 4.6% share of the market.\n",
    "\n",
    "I.If the sample were based on 2,000 users, could Microsoft conclude that Mozilla has a less than 5% share of the market?\n",
    "\n",
    "II.WebSideStory claims that its sample includes all the daily Internet users. If that’s the case, then can Microsoft conclude that Mozilla has a less than 5% share of the market?"
   ]
  },
  {
   "cell_type": "code",
   "execution_count": 2,
   "id": "9effc1fc",
   "metadata": {
    "ExecuteTime": {
     "end_time": "2022-10-12T17:06:01.771433Z",
     "start_time": "2022-10-12T17:06:01.756021Z"
    }
   },
   "outputs": [],
   "source": [
    "import numpy as np\n",
    "from scipy import stats\n",
    "from scipy.stats import norm"
   ]
  },
  {
   "cell_type": "code",
   "execution_count": 3,
   "id": "4c0ea256",
   "metadata": {
    "ExecuteTime": {
     "end_time": "2022-10-12T17:06:04.400812Z",
     "start_time": "2022-10-12T17:06:04.384658Z"
    }
   },
   "outputs": [
    {
     "data": {
      "text/plain": [
       "-0.820782681668124"
      ]
     },
     "execution_count": 3,
     "metadata": {},
     "output_type": "execute_result"
    }
   ],
   "source": [
    "# Apply One-Sample One-Tail z-test\n",
    "\n",
    "z_scores=(0.046-0.05)/(np.sqrt((0.05*(1-0.05))/2000))\n",
    "z_scores    "
   ]
  },
  {
   "cell_type": "code",
   "execution_count": 4,
   "id": "7c5b083f",
   "metadata": {
    "ExecuteTime": {
     "end_time": "2022-10-12T17:12:47.801132Z",
     "start_time": "2022-10-12T17:12:47.787389Z"
    }
   },
   "outputs": [
    {
     "data": {
      "text/plain": [
       "0.20588503245107104"
      ]
     },
     "execution_count": 4,
     "metadata": {},
     "output_type": "execute_result"
    }
   ],
   "source": [
    "#  Find probality assuming null hypothesis, so as to compare with Type1 error  0.05\n",
    "p_value=1-stats.norm.cdf(abs(z_scores))\n",
    "p_value"
   ]
  }
 ],
 "metadata": {
  "kernelspec": {
   "display_name": "Python 3 (ipykernel)",
   "language": "python",
   "name": "python3"
  },
  "language_info": {
   "codemirror_mode": {
    "name": "ipython",
    "version": 3
   },
   "file_extension": ".py",
   "mimetype": "text/x-python",
   "name": "python",
   "nbconvert_exporter": "python",
   "pygments_lexer": "ipython3",
   "version": "3.9.12"
  }
 },
 "nbformat": 4,
 "nbformat_minor": 5
}
