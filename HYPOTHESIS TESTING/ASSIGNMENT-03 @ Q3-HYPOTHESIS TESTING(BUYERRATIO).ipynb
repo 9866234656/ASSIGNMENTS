{
 "cells": [
  {
   "cell_type": "raw",
   "id": "8f180c3d",
   "metadata": {},
   "source": [
    "Assume Null Hypothesis as Ho: Independence of categorical variables (male-female buyer rations are similar across regions (does not vary and are not related) Thus Alternate Hypothesis as Ha: Dependence of categorical variables (male-female buyer rations are NOT similar across regions (does vary and somewhat/significantly related)\n",
    "\n",
    "Inference: As (p-value = 0.6603) > (α = 0.05); Accept the Null Hypothesis i.e. Independence of categorical variables Thus, male-female buyer rations are similar across regions and are not related"
   ]
  },
  {
   "cell_type": "code",
   "execution_count": 12,
   "id": "b0bd2282",
   "metadata": {
    "ExecuteTime": {
     "end_time": "2022-11-10T07:22:10.848393Z",
     "start_time": "2022-11-10T07:22:10.844394Z"
    }
   },
   "outputs": [],
   "source": [
    "import numpy as np\n",
    "import pandas as pd\n",
    "import scipy.stats as stats\n",
    "import statsmodels.api as sm\n",
    "import warnings\n",
    "warnings.filterwarnings(\"ignore\")\n",
    "from PIL import ImageGrab\n",
    "import matplotlib.pyplot as plt\n",
    "import seaborn as sns\n"
   ]
  },
  {
   "cell_type": "markdown",
   "id": "89a28850",
   "metadata": {},
   "source": [
    "##### We are going to conduct a Test of Independence using Chi-Square  test with Contingency table\n"
   ]
  },
  {
   "cell_type": "code",
   "execution_count": 13,
   "id": "21736885",
   "metadata": {
    "ExecuteTime": {
     "end_time": "2022-11-10T07:22:10.864474Z",
     "start_time": "2022-11-10T07:22:10.850407Z"
    }
   },
   "outputs": [
    {
     "data": {
      "text/html": [
       "<div>\n",
       "<style scoped>\n",
       "    .dataframe tbody tr th:only-of-type {\n",
       "        vertical-align: middle;\n",
       "    }\n",
       "\n",
       "    .dataframe tbody tr th {\n",
       "        vertical-align: top;\n",
       "    }\n",
       "\n",
       "    .dataframe thead th {\n",
       "        text-align: right;\n",
       "    }\n",
       "</style>\n",
       "<table border=\"1\" class=\"dataframe\">\n",
       "  <thead>\n",
       "    <tr style=\"text-align: right;\">\n",
       "      <th></th>\n",
       "      <th>East</th>\n",
       "      <th>West</th>\n",
       "      <th>North</th>\n",
       "      <th>South</th>\n",
       "    </tr>\n",
       "    <tr>\n",
       "      <th>Observed Values</th>\n",
       "      <th></th>\n",
       "      <th></th>\n",
       "      <th></th>\n",
       "      <th></th>\n",
       "    </tr>\n",
       "  </thead>\n",
       "  <tbody>\n",
       "    <tr>\n",
       "      <th>Males</th>\n",
       "      <td>50</td>\n",
       "      <td>142</td>\n",
       "      <td>131</td>\n",
       "      <td>70</td>\n",
       "    </tr>\n",
       "    <tr>\n",
       "      <th>Females</th>\n",
       "      <td>435</td>\n",
       "      <td>1523</td>\n",
       "      <td>1356</td>\n",
       "      <td>750</td>\n",
       "    </tr>\n",
       "  </tbody>\n",
       "</table>\n",
       "</div>"
      ],
      "text/plain": [
       "                 East  West  North  South\n",
       "Observed Values                          \n",
       "Males              50   142    131     70\n",
       "Females           435  1523   1356    750"
      ]
     },
     "execution_count": 13,
     "metadata": {},
     "output_type": "execute_result"
    }
   ],
   "source": [
    "buyer=pd.read_csv('BuyerRatio.csv',index_col = 0)\n",
    "buyer.head() "
   ]
  },
  {
   "cell_type": "code",
   "execution_count": 14,
   "id": "02b49c7c",
   "metadata": {
    "ExecuteTime": {
     "end_time": "2022-11-10T07:22:10.880650Z",
     "start_time": "2022-11-10T07:22:10.865393Z"
    }
   },
   "outputs": [],
   "source": [
    "table = [[50,142,131,70],\n",
    "        [435,1523,1356,750]]"
   ]
  },
  {
   "cell_type": "markdown",
   "id": "e2ace4b2",
   "metadata": {},
   "source": [
    "#### Applying Chi-Square x2 contingency table to convert observed value into expected value\n"
   ]
  },
  {
   "cell_type": "code",
   "execution_count": 15,
   "id": "3e774b41",
   "metadata": {
    "ExecuteTime": {
     "end_time": "2022-11-10T07:22:10.895451Z",
     "start_time": "2022-11-10T07:22:10.883061Z"
    }
   },
   "outputs": [
    {
     "name": "stdout",
     "output_type": "stream",
     "text": [
      "1.595945538661058 \n",
      " 0.6603094907091882 \n",
      " 3 \n",
      " [[  42.76531299  146.81287862  131.11756787   72.30424052]\n",
      " [ 442.23468701 1518.18712138 1355.88243213  747.69575948]]\n"
     ]
    }
   ],
   "source": [
    "stat, p, dof, exp = stats.chi2_contingency(buyer) \n",
    "print(stat,\"\\n\", p,\"\\n\", dof,\"\\n\", exp)\n"
   ]
  },
  {
   "cell_type": "code",
   "execution_count": 16,
   "id": "a78e8467",
   "metadata": {
    "ExecuteTime": {
     "end_time": "2022-11-10T07:22:10.910982Z",
     "start_time": "2022-11-10T07:22:10.897461Z"
    }
   },
   "outputs": [
    {
     "data": {
      "text/plain": [
       "(1.595945538661058,\n",
       " 0.6603094907091882,\n",
       " 3,\n",
       " array([[  42.76531299,  146.81287862,  131.11756787,   72.30424052],\n",
       "        [ 442.23468701, 1518.18712138, 1355.88243213,  747.69575948]]))"
      ]
     },
     "execution_count": 16,
     "metadata": {},
     "output_type": "execute_result"
    }
   ],
   "source": [
    "stats.chi2_contingency(table) "
   ]
  },
  {
   "cell_type": "code",
   "execution_count": 17,
   "id": "ca592e35",
   "metadata": {
    "ExecuteTime": {
     "end_time": "2022-11-10T07:22:10.926339Z",
     "start_time": "2022-11-10T07:22:10.913059Z"
    }
   },
   "outputs": [],
   "source": [
    "observed = np.array([50, 142, 131, 70, 435, 1523, 1356, 750])\n",
    "expected = np.array([42.76531299,  146.81287862,  131.11756787, 72.30424052, 442.23468701, 1518.18712138, 1355.88243213, 747.69575948])"
   ]
  },
  {
   "cell_type": "code",
   "execution_count": 18,
   "id": "15580387",
   "metadata": {
    "ExecuteTime": {
     "end_time": "2022-11-10T07:22:10.942107Z",
     "start_time": "2022-11-10T07:22:10.928616Z"
    }
   },
   "outputs": [],
   "source": [
    "#Comparing Evidence with Hypothesis"
   ]
  },
  {
   "cell_type": "code",
   "execution_count": 19,
   "id": "7b44d8d7",
   "metadata": {
    "ExecuteTime": {
     "end_time": "2022-11-10T07:22:10.957423Z",
     "start_time": "2022-11-10T07:22:10.944175Z"
    }
   },
   "outputs": [
    {
     "name": "stdout",
     "output_type": "stream",
     "text": [
      "Statistics =  1.5959455390914483 \n",
      " P_Value =  0.8095206646905712\n"
     ]
    }
   ],
   "source": [
    "statistics, p_value = stats.chisquare(observed, expected, ddof = 3)\n",
    "print(\"Statistics = \",statistics,\"\\n\",'P_Value = ', p_value)\n"
   ]
  },
  {
   "cell_type": "markdown",
   "id": "b4d8ed9d",
   "metadata": {
    "ExecuteTime": {
     "end_time": "2022-11-10T07:20:39.490419Z",
     "start_time": "2022-11-10T07:20:39.486420Z"
    }
   },
   "source": [
    "##### interpreting p-value\n",
    "#### As it is a one-tailed test\n",
    "#### alpha = 0.05"
   ]
  },
  {
   "cell_type": "code",
   "execution_count": 20,
   "id": "bb4c2ab2",
   "metadata": {
    "ExecuteTime": {
     "end_time": "2022-11-10T07:22:10.973117Z",
     "start_time": "2022-11-10T07:22:10.960479Z"
    }
   },
   "outputs": [
    {
     "name": "stdout",
     "output_type": "stream",
     "text": [
      "Significnace=0.050, p=0.810\n",
      "We accept Null hypothesis\n"
     ]
    }
   ],
   "source": [
    "alpha = 0.05\n",
    "print('Significnace=%.3f, p=%.3f' % (alpha, p_value))\n",
    "if p_value <= alpha:\n",
    "    print('We reject Null Hypothesis there is a significance difference between TAT of reports of the laboratories')\n",
    "else:\n",
    "    print('We accept Null hypothesis')\n"
   ]
  },
  {
   "cell_type": "markdown",
   "id": "3397c4ff",
   "metadata": {},
   "source": [
    "##### Hence,We accept Null Hypothesis.Therefore,there is no association or dependency between male-female buyers rations and are similar across regions."
   ]
  },
  {
   "cell_type": "code",
   "execution_count": null,
   "id": "04c4d8a7",
   "metadata": {},
   "outputs": [],
   "source": []
  }
 ],
 "metadata": {
  "kernelspec": {
   "display_name": "Python 3 (ipykernel)",
   "language": "python",
   "name": "python3"
  },
  "language_info": {
   "codemirror_mode": {
    "name": "ipython",
    "version": 3
   },
   "file_extension": ".py",
   "mimetype": "text/x-python",
   "name": "python",
   "nbconvert_exporter": "python",
   "pygments_lexer": "ipython3",
   "version": "3.9.12"
  }
 },
 "nbformat": 4,
 "nbformat_minor": 5
}
