{
 "cells": [
  {
   "cell_type": "raw",
   "id": "108547b4",
   "metadata": {},
   "source": [
    "The dataset contains 36733 instances of 11 sensor measures aggregated over one hour (by means of average or sum) from a gas turbine. \n",
    "The Dataset includes gas turbine parameters (such as Turbine Inlet Temperature and Compressor Discharge pressure) in addition to the ambient variables.\n",
    "Problem statement: predicting turbine energy yield (TEY) using ambient variables as features.\n",
    "Attribute Information:\n",
    "The explanations of sensor measurements and their brief statistics are given below.\n",
    "Variable (Abbr.) Unit Min Max Mean\n",
    "Ambient temperature (AT) C â€“6.23 37.10 17.71\n",
    "Ambient pressure (AP) mbar 985.85 1036.56 1013.07\n",
    "Ambient humidity (AH) (%) 24.08 100.20 77.87\n",
    "Air filter difference pressure (AFDP) mbar 2.09 7.61 3.93\n",
    "Gas turbine exhaust pressure (GTEP) mbar 17.70 40.72 25.56\n",
    "Turbine inlet temperature (TIT) C 1000.85 1100.89 1081.43\n",
    "Turbine after temperature (TAT) C 511.04 550.61 546.16\n",
    "Compressor discharge pressure (CDP) mbar 9.85 15.16 12.06\n",
    "Turbine energy yield (TEY) MWH 100.02 179.50 133.51\n",
    "Carbon monoxide (CO) mg/m3 0.00 44.10 2.37\n",
    "Nitrogen oxides (NOx) mg/m3 25.90 119.91 65.29"
   ]
  },
  {
   "cell_type": "code",
   "execution_count": 53,
   "id": "225b282d",
   "metadata": {
    "ExecuteTime": {
     "end_time": "2022-11-25T12:46:54.580918Z",
     "start_time": "2022-11-25T12:46:54.570695Z"
    }
   },
   "outputs": [],
   "source": [
    "import warnings\n",
    "warnings.filterwarnings('ignore')"
   ]
  },
  {
   "cell_type": "code",
   "execution_count": 54,
   "id": "6ef3f4d4",
   "metadata": {
    "ExecuteTime": {
     "end_time": "2022-11-25T12:46:54.595838Z",
     "start_time": "2022-11-25T12:46:54.582841Z"
    }
   },
   "outputs": [],
   "source": [
    "import pandas as pd\n",
    "import numpy as np\n",
    "from sklearn.feature_extraction.text import CountVectorizer, TfidfVectorizer\n",
    "from keras.models import Sequential\n",
    "from sklearn.preprocessing import StandardScaler\n",
    "from sklearn.model_selection import GridSearchCV\n",
    "from sklearn.metrics import classification_report\n",
    "from sklearn.metrics import accuracy_score, confusion_matrix\n",
    "from sklearn.model_selection import train_test_split, cross_val_score\n",
    "from keras.layers import Dense, Activation,Layer,Lambda\n",
    "from sklearn.model_selection import train_test_split\n",
    "from sklearn.preprocessing import MinMaxScaler"
   ]
  },
  {
   "cell_type": "code",
   "execution_count": 55,
   "id": "90e1aabb",
   "metadata": {
    "ExecuteTime": {
     "end_time": "2022-11-25T12:46:54.642574Z",
     "start_time": "2022-11-25T12:46:54.598819Z"
    }
   },
   "outputs": [
    {
     "data": {
      "text/html": [
       "<div>\n",
       "<style scoped>\n",
       "    .dataframe tbody tr th:only-of-type {\n",
       "        vertical-align: middle;\n",
       "    }\n",
       "\n",
       "    .dataframe tbody tr th {\n",
       "        vertical-align: top;\n",
       "    }\n",
       "\n",
       "    .dataframe thead th {\n",
       "        text-align: right;\n",
       "    }\n",
       "</style>\n",
       "<table border=\"1\" class=\"dataframe\">\n",
       "  <thead>\n",
       "    <tr style=\"text-align: right;\">\n",
       "      <th></th>\n",
       "      <th>AT</th>\n",
       "      <th>AP</th>\n",
       "      <th>AH</th>\n",
       "      <th>AFDP</th>\n",
       "      <th>GTEP</th>\n",
       "      <th>TIT</th>\n",
       "      <th>TAT</th>\n",
       "      <th>TEY</th>\n",
       "      <th>CDP</th>\n",
       "      <th>CO</th>\n",
       "      <th>NOX</th>\n",
       "    </tr>\n",
       "  </thead>\n",
       "  <tbody>\n",
       "    <tr>\n",
       "      <th>0</th>\n",
       "      <td>6.8594</td>\n",
       "      <td>1007.9</td>\n",
       "      <td>96.799</td>\n",
       "      <td>3.5000</td>\n",
       "      <td>19.663</td>\n",
       "      <td>1059.2</td>\n",
       "      <td>550.00</td>\n",
       "      <td>114.70</td>\n",
       "      <td>10.605</td>\n",
       "      <td>3.1547</td>\n",
       "      <td>82.722</td>\n",
       "    </tr>\n",
       "    <tr>\n",
       "      <th>1</th>\n",
       "      <td>6.7850</td>\n",
       "      <td>1008.4</td>\n",
       "      <td>97.118</td>\n",
       "      <td>3.4998</td>\n",
       "      <td>19.728</td>\n",
       "      <td>1059.3</td>\n",
       "      <td>550.00</td>\n",
       "      <td>114.72</td>\n",
       "      <td>10.598</td>\n",
       "      <td>3.2363</td>\n",
       "      <td>82.776</td>\n",
       "    </tr>\n",
       "    <tr>\n",
       "      <th>2</th>\n",
       "      <td>6.8977</td>\n",
       "      <td>1008.8</td>\n",
       "      <td>95.939</td>\n",
       "      <td>3.4824</td>\n",
       "      <td>19.779</td>\n",
       "      <td>1059.4</td>\n",
       "      <td>549.87</td>\n",
       "      <td>114.71</td>\n",
       "      <td>10.601</td>\n",
       "      <td>3.2012</td>\n",
       "      <td>82.468</td>\n",
       "    </tr>\n",
       "    <tr>\n",
       "      <th>3</th>\n",
       "      <td>7.0569</td>\n",
       "      <td>1009.2</td>\n",
       "      <td>95.249</td>\n",
       "      <td>3.4805</td>\n",
       "      <td>19.792</td>\n",
       "      <td>1059.6</td>\n",
       "      <td>549.99</td>\n",
       "      <td>114.72</td>\n",
       "      <td>10.606</td>\n",
       "      <td>3.1923</td>\n",
       "      <td>82.670</td>\n",
       "    </tr>\n",
       "    <tr>\n",
       "      <th>4</th>\n",
       "      <td>7.3978</td>\n",
       "      <td>1009.7</td>\n",
       "      <td>95.150</td>\n",
       "      <td>3.4976</td>\n",
       "      <td>19.765</td>\n",
       "      <td>1059.7</td>\n",
       "      <td>549.98</td>\n",
       "      <td>114.72</td>\n",
       "      <td>10.612</td>\n",
       "      <td>3.2484</td>\n",
       "      <td>82.311</td>\n",
       "    </tr>\n",
       "    <tr>\n",
       "      <th>...</th>\n",
       "      <td>...</td>\n",
       "      <td>...</td>\n",
       "      <td>...</td>\n",
       "      <td>...</td>\n",
       "      <td>...</td>\n",
       "      <td>...</td>\n",
       "      <td>...</td>\n",
       "      <td>...</td>\n",
       "      <td>...</td>\n",
       "      <td>...</td>\n",
       "      <td>...</td>\n",
       "    </tr>\n",
       "    <tr>\n",
       "      <th>15034</th>\n",
       "      <td>9.0301</td>\n",
       "      <td>1005.6</td>\n",
       "      <td>98.460</td>\n",
       "      <td>3.5421</td>\n",
       "      <td>19.164</td>\n",
       "      <td>1049.7</td>\n",
       "      <td>546.21</td>\n",
       "      <td>111.61</td>\n",
       "      <td>10.400</td>\n",
       "      <td>4.5186</td>\n",
       "      <td>79.559</td>\n",
       "    </tr>\n",
       "    <tr>\n",
       "      <th>15035</th>\n",
       "      <td>7.8879</td>\n",
       "      <td>1005.9</td>\n",
       "      <td>99.093</td>\n",
       "      <td>3.5059</td>\n",
       "      <td>19.414</td>\n",
       "      <td>1046.3</td>\n",
       "      <td>543.22</td>\n",
       "      <td>111.78</td>\n",
       "      <td>10.433</td>\n",
       "      <td>4.8470</td>\n",
       "      <td>79.917</td>\n",
       "    </tr>\n",
       "    <tr>\n",
       "      <th>15036</th>\n",
       "      <td>7.2647</td>\n",
       "      <td>1006.3</td>\n",
       "      <td>99.496</td>\n",
       "      <td>3.4770</td>\n",
       "      <td>19.530</td>\n",
       "      <td>1037.7</td>\n",
       "      <td>537.32</td>\n",
       "      <td>110.19</td>\n",
       "      <td>10.483</td>\n",
       "      <td>7.9632</td>\n",
       "      <td>90.912</td>\n",
       "    </tr>\n",
       "    <tr>\n",
       "      <th>15037</th>\n",
       "      <td>7.0060</td>\n",
       "      <td>1006.8</td>\n",
       "      <td>99.008</td>\n",
       "      <td>3.4486</td>\n",
       "      <td>19.377</td>\n",
       "      <td>1043.2</td>\n",
       "      <td>541.24</td>\n",
       "      <td>110.74</td>\n",
       "      <td>10.533</td>\n",
       "      <td>6.2494</td>\n",
       "      <td>93.227</td>\n",
       "    </tr>\n",
       "    <tr>\n",
       "      <th>15038</th>\n",
       "      <td>6.9279</td>\n",
       "      <td>1007.2</td>\n",
       "      <td>97.533</td>\n",
       "      <td>3.4275</td>\n",
       "      <td>19.306</td>\n",
       "      <td>1049.9</td>\n",
       "      <td>545.85</td>\n",
       "      <td>111.58</td>\n",
       "      <td>10.583</td>\n",
       "      <td>4.9816</td>\n",
       "      <td>92.498</td>\n",
       "    </tr>\n",
       "  </tbody>\n",
       "</table>\n",
       "<p>15039 rows × 11 columns</p>\n",
       "</div>"
      ],
      "text/plain": [
       "           AT      AP      AH    AFDP    GTEP     TIT     TAT     TEY     CDP  \\\n",
       "0      6.8594  1007.9  96.799  3.5000  19.663  1059.2  550.00  114.70  10.605   \n",
       "1      6.7850  1008.4  97.118  3.4998  19.728  1059.3  550.00  114.72  10.598   \n",
       "2      6.8977  1008.8  95.939  3.4824  19.779  1059.4  549.87  114.71  10.601   \n",
       "3      7.0569  1009.2  95.249  3.4805  19.792  1059.6  549.99  114.72  10.606   \n",
       "4      7.3978  1009.7  95.150  3.4976  19.765  1059.7  549.98  114.72  10.612   \n",
       "...       ...     ...     ...     ...     ...     ...     ...     ...     ...   \n",
       "15034  9.0301  1005.6  98.460  3.5421  19.164  1049.7  546.21  111.61  10.400   \n",
       "15035  7.8879  1005.9  99.093  3.5059  19.414  1046.3  543.22  111.78  10.433   \n",
       "15036  7.2647  1006.3  99.496  3.4770  19.530  1037.7  537.32  110.19  10.483   \n",
       "15037  7.0060  1006.8  99.008  3.4486  19.377  1043.2  541.24  110.74  10.533   \n",
       "15038  6.9279  1007.2  97.533  3.4275  19.306  1049.9  545.85  111.58  10.583   \n",
       "\n",
       "           CO     NOX  \n",
       "0      3.1547  82.722  \n",
       "1      3.2363  82.776  \n",
       "2      3.2012  82.468  \n",
       "3      3.1923  82.670  \n",
       "4      3.2484  82.311  \n",
       "...       ...     ...  \n",
       "15034  4.5186  79.559  \n",
       "15035  4.8470  79.917  \n",
       "15036  7.9632  90.912  \n",
       "15037  6.2494  93.227  \n",
       "15038  4.9816  92.498  \n",
       "\n",
       "[15039 rows x 11 columns]"
      ]
     },
     "execution_count": 55,
     "metadata": {},
     "output_type": "execute_result"
    }
   ],
   "source": [
    "gas=pd.read_csv('gas_turbines.csv')\n",
    "gas"
   ]
  },
  {
   "cell_type": "code",
   "execution_count": 56,
   "id": "20f6707b",
   "metadata": {
    "ExecuteTime": {
     "end_time": "2022-11-25T12:46:54.659042Z",
     "start_time": "2022-11-25T12:46:54.645487Z"
    }
   },
   "outputs": [
    {
     "name": "stdout",
     "output_type": "stream",
     "text": [
      "<class 'pandas.core.frame.DataFrame'>\n",
      "RangeIndex: 15039 entries, 0 to 15038\n",
      "Data columns (total 11 columns):\n",
      " #   Column  Non-Null Count  Dtype  \n",
      "---  ------  --------------  -----  \n",
      " 0   AT      15039 non-null  float64\n",
      " 1   AP      15039 non-null  float64\n",
      " 2   AH      15039 non-null  float64\n",
      " 3   AFDP    15039 non-null  float64\n",
      " 4   GTEP    15039 non-null  float64\n",
      " 5   TIT     15039 non-null  float64\n",
      " 6   TAT     15039 non-null  float64\n",
      " 7   TEY     15039 non-null  float64\n",
      " 8   CDP     15039 non-null  float64\n",
      " 9   CO      15039 non-null  float64\n",
      " 10  NOX     15039 non-null  float64\n",
      "dtypes: float64(11)\n",
      "memory usage: 1.3 MB\n"
     ]
    }
   ],
   "source": [
    "gas.info()"
   ]
  },
  {
   "cell_type": "code",
   "execution_count": 57,
   "id": "e534259e",
   "metadata": {
    "ExecuteTime": {
     "end_time": "2022-11-25T12:46:54.674397Z",
     "start_time": "2022-11-25T12:46:54.661996Z"
    }
   },
   "outputs": [
    {
     "data": {
      "text/plain": [
       "(15039, 11)"
      ]
     },
     "execution_count": 57,
     "metadata": {},
     "output_type": "execute_result"
    }
   ],
   "source": [
    "gas.shape"
   ]
  },
  {
   "cell_type": "code",
   "execution_count": 58,
   "id": "7d3bba59",
   "metadata": {
    "ExecuteTime": {
     "end_time": "2022-11-25T12:46:54.705630Z",
     "start_time": "2022-11-25T12:46:54.678472Z"
    }
   },
   "outputs": [
    {
     "data": {
      "text/html": [
       "<div>\n",
       "<style scoped>\n",
       "    .dataframe tbody tr th:only-of-type {\n",
       "        vertical-align: middle;\n",
       "    }\n",
       "\n",
       "    .dataframe tbody tr th {\n",
       "        vertical-align: top;\n",
       "    }\n",
       "\n",
       "    .dataframe thead th {\n",
       "        text-align: right;\n",
       "    }\n",
       "</style>\n",
       "<table border=\"1\" class=\"dataframe\">\n",
       "  <thead>\n",
       "    <tr style=\"text-align: right;\">\n",
       "      <th></th>\n",
       "      <th>AT</th>\n",
       "      <th>AP</th>\n",
       "      <th>AH</th>\n",
       "      <th>AFDP</th>\n",
       "      <th>GTEP</th>\n",
       "      <th>TIT</th>\n",
       "      <th>TAT</th>\n",
       "      <th>TEY</th>\n",
       "      <th>CDP</th>\n",
       "      <th>CO</th>\n",
       "      <th>NOX</th>\n",
       "    </tr>\n",
       "  </thead>\n",
       "  <tbody>\n",
       "    <tr>\n",
       "      <th>0</th>\n",
       "      <td>6.8594</td>\n",
       "      <td>1007.9</td>\n",
       "      <td>96.799</td>\n",
       "      <td>3.5000</td>\n",
       "      <td>19.663</td>\n",
       "      <td>1059.2</td>\n",
       "      <td>550.00</td>\n",
       "      <td>114.70</td>\n",
       "      <td>10.605</td>\n",
       "      <td>3.1547</td>\n",
       "      <td>82.722</td>\n",
       "    </tr>\n",
       "    <tr>\n",
       "      <th>1</th>\n",
       "      <td>6.7850</td>\n",
       "      <td>1008.4</td>\n",
       "      <td>97.118</td>\n",
       "      <td>3.4998</td>\n",
       "      <td>19.728</td>\n",
       "      <td>1059.3</td>\n",
       "      <td>550.00</td>\n",
       "      <td>114.72</td>\n",
       "      <td>10.598</td>\n",
       "      <td>3.2363</td>\n",
       "      <td>82.776</td>\n",
       "    </tr>\n",
       "    <tr>\n",
       "      <th>2</th>\n",
       "      <td>6.8977</td>\n",
       "      <td>1008.8</td>\n",
       "      <td>95.939</td>\n",
       "      <td>3.4824</td>\n",
       "      <td>19.779</td>\n",
       "      <td>1059.4</td>\n",
       "      <td>549.87</td>\n",
       "      <td>114.71</td>\n",
       "      <td>10.601</td>\n",
       "      <td>3.2012</td>\n",
       "      <td>82.468</td>\n",
       "    </tr>\n",
       "    <tr>\n",
       "      <th>3</th>\n",
       "      <td>7.0569</td>\n",
       "      <td>1009.2</td>\n",
       "      <td>95.249</td>\n",
       "      <td>3.4805</td>\n",
       "      <td>19.792</td>\n",
       "      <td>1059.6</td>\n",
       "      <td>549.99</td>\n",
       "      <td>114.72</td>\n",
       "      <td>10.606</td>\n",
       "      <td>3.1923</td>\n",
       "      <td>82.670</td>\n",
       "    </tr>\n",
       "    <tr>\n",
       "      <th>4</th>\n",
       "      <td>7.3978</td>\n",
       "      <td>1009.7</td>\n",
       "      <td>95.150</td>\n",
       "      <td>3.4976</td>\n",
       "      <td>19.765</td>\n",
       "      <td>1059.7</td>\n",
       "      <td>549.98</td>\n",
       "      <td>114.72</td>\n",
       "      <td>10.612</td>\n",
       "      <td>3.2484</td>\n",
       "      <td>82.311</td>\n",
       "    </tr>\n",
       "  </tbody>\n",
       "</table>\n",
       "</div>"
      ],
      "text/plain": [
       "       AT      AP      AH    AFDP    GTEP     TIT     TAT     TEY     CDP  \\\n",
       "0  6.8594  1007.9  96.799  3.5000  19.663  1059.2  550.00  114.70  10.605   \n",
       "1  6.7850  1008.4  97.118  3.4998  19.728  1059.3  550.00  114.72  10.598   \n",
       "2  6.8977  1008.8  95.939  3.4824  19.779  1059.4  549.87  114.71  10.601   \n",
       "3  7.0569  1009.2  95.249  3.4805  19.792  1059.6  549.99  114.72  10.606   \n",
       "4  7.3978  1009.7  95.150  3.4976  19.765  1059.7  549.98  114.72  10.612   \n",
       "\n",
       "       CO     NOX  \n",
       "0  3.1547  82.722  \n",
       "1  3.2363  82.776  \n",
       "2  3.2012  82.468  \n",
       "3  3.1923  82.670  \n",
       "4  3.2484  82.311  "
      ]
     },
     "execution_count": 58,
     "metadata": {},
     "output_type": "execute_result"
    }
   ],
   "source": [
    "gas.head()"
   ]
  },
  {
   "cell_type": "markdown",
   "id": "7a08af31",
   "metadata": {},
   "source": [
    "#### Changing position of target column 'TEY'"
   ]
  },
  {
   "cell_type": "code",
   "execution_count": 59,
   "id": "433b287b",
   "metadata": {
    "ExecuteTime": {
     "end_time": "2022-11-25T12:46:54.721199Z",
     "start_time": "2022-11-25T12:46:54.708146Z"
    }
   },
   "outputs": [],
   "source": [
    "Target = gas['TEY']\n",
    "#Drop the existing column\n",
    "gas.drop(labels=['TEY'], axis=1,inplace = True)\n",
    "gas.insert(0, 'Y', Target)"
   ]
  },
  {
   "cell_type": "code",
   "execution_count": 60,
   "id": "e980f6d9",
   "metadata": {
    "ExecuteTime": {
     "end_time": "2022-11-25T12:46:54.753011Z",
     "start_time": "2022-11-25T12:46:54.722196Z"
    }
   },
   "outputs": [
    {
     "data": {
      "text/html": [
       "<div>\n",
       "<style scoped>\n",
       "    .dataframe tbody tr th:only-of-type {\n",
       "        vertical-align: middle;\n",
       "    }\n",
       "\n",
       "    .dataframe tbody tr th {\n",
       "        vertical-align: top;\n",
       "    }\n",
       "\n",
       "    .dataframe thead th {\n",
       "        text-align: right;\n",
       "    }\n",
       "</style>\n",
       "<table border=\"1\" class=\"dataframe\">\n",
       "  <thead>\n",
       "    <tr style=\"text-align: right;\">\n",
       "      <th></th>\n",
       "      <th>TEY</th>\n",
       "      <th>AT</th>\n",
       "      <th>AP</th>\n",
       "      <th>AH</th>\n",
       "      <th>AFDP</th>\n",
       "      <th>GTEP</th>\n",
       "      <th>TIT</th>\n",
       "      <th>TAT</th>\n",
       "      <th>CDP</th>\n",
       "      <th>CO</th>\n",
       "      <th>NOX</th>\n",
       "    </tr>\n",
       "  </thead>\n",
       "  <tbody>\n",
       "    <tr>\n",
       "      <th>0</th>\n",
       "      <td>114.70</td>\n",
       "      <td>6.8594</td>\n",
       "      <td>1007.9</td>\n",
       "      <td>96.799</td>\n",
       "      <td>3.5000</td>\n",
       "      <td>19.663</td>\n",
       "      <td>1059.2</td>\n",
       "      <td>550.00</td>\n",
       "      <td>10.605</td>\n",
       "      <td>3.1547</td>\n",
       "      <td>82.722</td>\n",
       "    </tr>\n",
       "    <tr>\n",
       "      <th>1</th>\n",
       "      <td>114.72</td>\n",
       "      <td>6.7850</td>\n",
       "      <td>1008.4</td>\n",
       "      <td>97.118</td>\n",
       "      <td>3.4998</td>\n",
       "      <td>19.728</td>\n",
       "      <td>1059.3</td>\n",
       "      <td>550.00</td>\n",
       "      <td>10.598</td>\n",
       "      <td>3.2363</td>\n",
       "      <td>82.776</td>\n",
       "    </tr>\n",
       "    <tr>\n",
       "      <th>2</th>\n",
       "      <td>114.71</td>\n",
       "      <td>6.8977</td>\n",
       "      <td>1008.8</td>\n",
       "      <td>95.939</td>\n",
       "      <td>3.4824</td>\n",
       "      <td>19.779</td>\n",
       "      <td>1059.4</td>\n",
       "      <td>549.87</td>\n",
       "      <td>10.601</td>\n",
       "      <td>3.2012</td>\n",
       "      <td>82.468</td>\n",
       "    </tr>\n",
       "    <tr>\n",
       "      <th>3</th>\n",
       "      <td>114.72</td>\n",
       "      <td>7.0569</td>\n",
       "      <td>1009.2</td>\n",
       "      <td>95.249</td>\n",
       "      <td>3.4805</td>\n",
       "      <td>19.792</td>\n",
       "      <td>1059.6</td>\n",
       "      <td>549.99</td>\n",
       "      <td>10.606</td>\n",
       "      <td>3.1923</td>\n",
       "      <td>82.670</td>\n",
       "    </tr>\n",
       "    <tr>\n",
       "      <th>4</th>\n",
       "      <td>114.72</td>\n",
       "      <td>7.3978</td>\n",
       "      <td>1009.7</td>\n",
       "      <td>95.150</td>\n",
       "      <td>3.4976</td>\n",
       "      <td>19.765</td>\n",
       "      <td>1059.7</td>\n",
       "      <td>549.98</td>\n",
       "      <td>10.612</td>\n",
       "      <td>3.2484</td>\n",
       "      <td>82.311</td>\n",
       "    </tr>\n",
       "  </tbody>\n",
       "</table>\n",
       "</div>"
      ],
      "text/plain": [
       "      TEY      AT      AP      AH    AFDP    GTEP     TIT     TAT     CDP  \\\n",
       "0  114.70  6.8594  1007.9  96.799  3.5000  19.663  1059.2  550.00  10.605   \n",
       "1  114.72  6.7850  1008.4  97.118  3.4998  19.728  1059.3  550.00  10.598   \n",
       "2  114.71  6.8977  1008.8  95.939  3.4824  19.779  1059.4  549.87  10.601   \n",
       "3  114.72  7.0569  1009.2  95.249  3.4805  19.792  1059.6  549.99  10.606   \n",
       "4  114.72  7.3978  1009.7  95.150  3.4976  19.765  1059.7  549.98  10.612   \n",
       "\n",
       "       CO     NOX  \n",
       "0  3.1547  82.722  \n",
       "1  3.2363  82.776  \n",
       "2  3.2012  82.468  \n",
       "3  3.1923  82.670  \n",
       "4  3.2484  82.311  "
      ]
     },
     "execution_count": 60,
     "metadata": {},
     "output_type": "execute_result"
    }
   ],
   "source": [
    "gas = gas.rename({'Y':'TEY'}, axis = 1)\n",
    "gas.head()"
   ]
  },
  {
   "cell_type": "code",
   "execution_count": 61,
   "id": "f9817570",
   "metadata": {
    "ExecuteTime": {
     "end_time": "2022-11-25T12:46:54.768553Z",
     "start_time": "2022-11-25T12:46:54.755579Z"
    }
   },
   "outputs": [
    {
     "name": "stdout",
     "output_type": "stream",
     "text": [
      "<class 'pandas.core.frame.DataFrame'>\n",
      "RangeIndex: 15039 entries, 0 to 15038\n",
      "Data columns (total 11 columns):\n",
      " #   Column  Non-Null Count  Dtype  \n",
      "---  ------  --------------  -----  \n",
      " 0   TEY     15039 non-null  float64\n",
      " 1   AT      15039 non-null  float64\n",
      " 2   AP      15039 non-null  float64\n",
      " 3   AH      15039 non-null  float64\n",
      " 4   AFDP    15039 non-null  float64\n",
      " 5   GTEP    15039 non-null  float64\n",
      " 6   TIT     15039 non-null  float64\n",
      " 7   TAT     15039 non-null  float64\n",
      " 8   CDP     15039 non-null  float64\n",
      " 9   CO      15039 non-null  float64\n",
      " 10  NOX     15039 non-null  float64\n",
      "dtypes: float64(11)\n",
      "memory usage: 1.3 MB\n"
     ]
    }
   ],
   "source": [
    "gas.info()"
   ]
  },
  {
   "cell_type": "code",
   "execution_count": 62,
   "id": "16c62654",
   "metadata": {
    "ExecuteTime": {
     "end_time": "2022-11-25T12:46:54.814338Z",
     "start_time": "2022-11-25T12:46:54.774442Z"
    }
   },
   "outputs": [
    {
     "data": {
      "text/html": [
       "<div>\n",
       "<style scoped>\n",
       "    .dataframe tbody tr th:only-of-type {\n",
       "        vertical-align: middle;\n",
       "    }\n",
       "\n",
       "    .dataframe tbody tr th {\n",
       "        vertical-align: top;\n",
       "    }\n",
       "\n",
       "    .dataframe thead th {\n",
       "        text-align: right;\n",
       "    }\n",
       "</style>\n",
       "<table border=\"1\" class=\"dataframe\">\n",
       "  <thead>\n",
       "    <tr style=\"text-align: right;\">\n",
       "      <th></th>\n",
       "      <th>TEY</th>\n",
       "      <th>AT</th>\n",
       "      <th>AP</th>\n",
       "      <th>AH</th>\n",
       "      <th>AFDP</th>\n",
       "      <th>GTEP</th>\n",
       "      <th>TIT</th>\n",
       "      <th>TAT</th>\n",
       "      <th>CDP</th>\n",
       "      <th>CO</th>\n",
       "      <th>NOX</th>\n",
       "    </tr>\n",
       "  </thead>\n",
       "  <tbody>\n",
       "    <tr>\n",
       "      <th>count</th>\n",
       "      <td>15039.000000</td>\n",
       "      <td>15039.000000</td>\n",
       "      <td>15039.00000</td>\n",
       "      <td>15039.000000</td>\n",
       "      <td>15039.000000</td>\n",
       "      <td>15039.000000</td>\n",
       "      <td>15039.000000</td>\n",
       "      <td>15039.000000</td>\n",
       "      <td>15039.000000</td>\n",
       "      <td>15039.000000</td>\n",
       "      <td>15039.000000</td>\n",
       "    </tr>\n",
       "    <tr>\n",
       "      <th>mean</th>\n",
       "      <td>134.188464</td>\n",
       "      <td>17.764381</td>\n",
       "      <td>1013.19924</td>\n",
       "      <td>79.124174</td>\n",
       "      <td>4.200294</td>\n",
       "      <td>25.419061</td>\n",
       "      <td>1083.798770</td>\n",
       "      <td>545.396183</td>\n",
       "      <td>12.102353</td>\n",
       "      <td>1.972499</td>\n",
       "      <td>68.190934</td>\n",
       "    </tr>\n",
       "    <tr>\n",
       "      <th>std</th>\n",
       "      <td>15.829717</td>\n",
       "      <td>7.574323</td>\n",
       "      <td>6.41076</td>\n",
       "      <td>13.793439</td>\n",
       "      <td>0.760197</td>\n",
       "      <td>4.173916</td>\n",
       "      <td>16.527806</td>\n",
       "      <td>7.866803</td>\n",
       "      <td>1.103196</td>\n",
       "      <td>2.222206</td>\n",
       "      <td>10.470586</td>\n",
       "    </tr>\n",
       "    <tr>\n",
       "      <th>min</th>\n",
       "      <td>100.170000</td>\n",
       "      <td>0.522300</td>\n",
       "      <td>985.85000</td>\n",
       "      <td>30.344000</td>\n",
       "      <td>2.087400</td>\n",
       "      <td>17.878000</td>\n",
       "      <td>1000.800000</td>\n",
       "      <td>512.450000</td>\n",
       "      <td>9.904400</td>\n",
       "      <td>0.000388</td>\n",
       "      <td>27.765000</td>\n",
       "    </tr>\n",
       "    <tr>\n",
       "      <th>25%</th>\n",
       "      <td>127.985000</td>\n",
       "      <td>11.408000</td>\n",
       "      <td>1008.90000</td>\n",
       "      <td>69.750000</td>\n",
       "      <td>3.723900</td>\n",
       "      <td>23.294000</td>\n",
       "      <td>1079.600000</td>\n",
       "      <td>542.170000</td>\n",
       "      <td>11.622000</td>\n",
       "      <td>0.858055</td>\n",
       "      <td>61.303500</td>\n",
       "    </tr>\n",
       "    <tr>\n",
       "      <th>50%</th>\n",
       "      <td>133.780000</td>\n",
       "      <td>18.186000</td>\n",
       "      <td>1012.80000</td>\n",
       "      <td>82.266000</td>\n",
       "      <td>4.186200</td>\n",
       "      <td>25.082000</td>\n",
       "      <td>1088.700000</td>\n",
       "      <td>549.890000</td>\n",
       "      <td>12.025000</td>\n",
       "      <td>1.390200</td>\n",
       "      <td>66.601000</td>\n",
       "    </tr>\n",
       "    <tr>\n",
       "      <th>75%</th>\n",
       "      <td>140.895000</td>\n",
       "      <td>23.862500</td>\n",
       "      <td>1016.90000</td>\n",
       "      <td>90.043500</td>\n",
       "      <td>4.550900</td>\n",
       "      <td>27.184000</td>\n",
       "      <td>1096.000000</td>\n",
       "      <td>550.060000</td>\n",
       "      <td>12.578000</td>\n",
       "      <td>2.160400</td>\n",
       "      <td>73.935500</td>\n",
       "    </tr>\n",
       "    <tr>\n",
       "      <th>max</th>\n",
       "      <td>174.610000</td>\n",
       "      <td>34.929000</td>\n",
       "      <td>1034.20000</td>\n",
       "      <td>100.200000</td>\n",
       "      <td>7.610600</td>\n",
       "      <td>37.402000</td>\n",
       "      <td>1100.800000</td>\n",
       "      <td>550.610000</td>\n",
       "      <td>15.081000</td>\n",
       "      <td>44.103000</td>\n",
       "      <td>119.890000</td>\n",
       "    </tr>\n",
       "  </tbody>\n",
       "</table>\n",
       "</div>"
      ],
      "text/plain": [
       "                TEY            AT           AP            AH          AFDP  \\\n",
       "count  15039.000000  15039.000000  15039.00000  15039.000000  15039.000000   \n",
       "mean     134.188464     17.764381   1013.19924     79.124174      4.200294   \n",
       "std       15.829717      7.574323      6.41076     13.793439      0.760197   \n",
       "min      100.170000      0.522300    985.85000     30.344000      2.087400   \n",
       "25%      127.985000     11.408000   1008.90000     69.750000      3.723900   \n",
       "50%      133.780000     18.186000   1012.80000     82.266000      4.186200   \n",
       "75%      140.895000     23.862500   1016.90000     90.043500      4.550900   \n",
       "max      174.610000     34.929000   1034.20000    100.200000      7.610600   \n",
       "\n",
       "               GTEP           TIT           TAT           CDP            CO  \\\n",
       "count  15039.000000  15039.000000  15039.000000  15039.000000  15039.000000   \n",
       "mean      25.419061   1083.798770    545.396183     12.102353      1.972499   \n",
       "std        4.173916     16.527806      7.866803      1.103196      2.222206   \n",
       "min       17.878000   1000.800000    512.450000      9.904400      0.000388   \n",
       "25%       23.294000   1079.600000    542.170000     11.622000      0.858055   \n",
       "50%       25.082000   1088.700000    549.890000     12.025000      1.390200   \n",
       "75%       27.184000   1096.000000    550.060000     12.578000      2.160400   \n",
       "max       37.402000   1100.800000    550.610000     15.081000     44.103000   \n",
       "\n",
       "                NOX  \n",
       "count  15039.000000  \n",
       "mean      68.190934  \n",
       "std       10.470586  \n",
       "min       27.765000  \n",
       "25%       61.303500  \n",
       "50%       66.601000  \n",
       "75%       73.935500  \n",
       "max      119.890000  "
      ]
     },
     "execution_count": 62,
     "metadata": {},
     "output_type": "execute_result"
    }
   ],
   "source": [
    "gas.describe()"
   ]
  },
  {
   "cell_type": "code",
   "execution_count": 63,
   "id": "a5561682",
   "metadata": {
    "ExecuteTime": {
     "end_time": "2022-11-25T12:46:54.830291Z",
     "start_time": "2022-11-25T12:46:54.816231Z"
    }
   },
   "outputs": [
    {
     "data": {
      "text/plain": [
       "TEY     0\n",
       "AT      0\n",
       "AP      0\n",
       "AH      0\n",
       "AFDP    0\n",
       "GTEP    0\n",
       "TIT     0\n",
       "TAT     0\n",
       "CDP     0\n",
       "CO      0\n",
       "NOX     0\n",
       "dtype: int64"
      ]
     },
     "execution_count": 63,
     "metadata": {},
     "output_type": "execute_result"
    }
   ],
   "source": [
    "gas.isna().sum()"
   ]
  },
  {
   "cell_type": "markdown",
   "id": "b53fb945",
   "metadata": {},
   "source": [
    "##### Checking correlation between variables"
   ]
  },
  {
   "cell_type": "code",
   "execution_count": 64,
   "id": "86055987",
   "metadata": {
    "ExecuteTime": {
     "end_time": "2022-11-25T12:46:54.877553Z",
     "start_time": "2022-11-25T12:46:54.833179Z"
    }
   },
   "outputs": [
    {
     "data": {
      "text/html": [
       "<div>\n",
       "<style scoped>\n",
       "    .dataframe tbody tr th:only-of-type {\n",
       "        vertical-align: middle;\n",
       "    }\n",
       "\n",
       "    .dataframe tbody tr th {\n",
       "        vertical-align: top;\n",
       "    }\n",
       "\n",
       "    .dataframe thead th {\n",
       "        text-align: right;\n",
       "    }\n",
       "</style>\n",
       "<table border=\"1\" class=\"dataframe\">\n",
       "  <thead>\n",
       "    <tr style=\"text-align: right;\">\n",
       "      <th></th>\n",
       "      <th>TEY</th>\n",
       "      <th>AT</th>\n",
       "      <th>AP</th>\n",
       "      <th>AH</th>\n",
       "      <th>AFDP</th>\n",
       "      <th>GTEP</th>\n",
       "      <th>TIT</th>\n",
       "      <th>TAT</th>\n",
       "      <th>CDP</th>\n",
       "      <th>CO</th>\n",
       "      <th>NOX</th>\n",
       "    </tr>\n",
       "  </thead>\n",
       "  <tbody>\n",
       "    <tr>\n",
       "      <th>TEY</th>\n",
       "      <td>1.000000</td>\n",
       "      <td>-0.207495</td>\n",
       "      <td>0.146939</td>\n",
       "      <td>-0.110272</td>\n",
       "      <td>0.717995</td>\n",
       "      <td>0.977042</td>\n",
       "      <td>0.891587</td>\n",
       "      <td>-0.720356</td>\n",
       "      <td>0.988473</td>\n",
       "      <td>-0.541751</td>\n",
       "      <td>-0.102631</td>\n",
       "    </tr>\n",
       "    <tr>\n",
       "      <th>AT</th>\n",
       "      <td>-0.207495</td>\n",
       "      <td>1.000000</td>\n",
       "      <td>-0.412953</td>\n",
       "      <td>-0.549432</td>\n",
       "      <td>-0.099333</td>\n",
       "      <td>-0.049103</td>\n",
       "      <td>0.093067</td>\n",
       "      <td>0.338569</td>\n",
       "      <td>-0.100705</td>\n",
       "      <td>-0.088588</td>\n",
       "      <td>-0.600006</td>\n",
       "    </tr>\n",
       "    <tr>\n",
       "      <th>AP</th>\n",
       "      <td>0.146939</td>\n",
       "      <td>-0.412953</td>\n",
       "      <td>1.000000</td>\n",
       "      <td>0.042573</td>\n",
       "      <td>0.040318</td>\n",
       "      <td>0.078575</td>\n",
       "      <td>0.029650</td>\n",
       "      <td>-0.223479</td>\n",
       "      <td>0.131198</td>\n",
       "      <td>0.041614</td>\n",
       "      <td>0.256744</td>\n",
       "    </tr>\n",
       "    <tr>\n",
       "      <th>AH</th>\n",
       "      <td>-0.110272</td>\n",
       "      <td>-0.549432</td>\n",
       "      <td>0.042573</td>\n",
       "      <td>1.000000</td>\n",
       "      <td>-0.119249</td>\n",
       "      <td>-0.202784</td>\n",
       "      <td>-0.247781</td>\n",
       "      <td>0.010859</td>\n",
       "      <td>-0.182010</td>\n",
       "      <td>0.165505</td>\n",
       "      <td>0.143061</td>\n",
       "    </tr>\n",
       "    <tr>\n",
       "      <th>AFDP</th>\n",
       "      <td>0.717995</td>\n",
       "      <td>-0.099333</td>\n",
       "      <td>0.040318</td>\n",
       "      <td>-0.119249</td>\n",
       "      <td>1.000000</td>\n",
       "      <td>0.744251</td>\n",
       "      <td>0.627254</td>\n",
       "      <td>-0.571541</td>\n",
       "      <td>0.727152</td>\n",
       "      <td>-0.334207</td>\n",
       "      <td>-0.037299</td>\n",
       "    </tr>\n",
       "    <tr>\n",
       "      <th>GTEP</th>\n",
       "      <td>0.977042</td>\n",
       "      <td>-0.049103</td>\n",
       "      <td>0.078575</td>\n",
       "      <td>-0.202784</td>\n",
       "      <td>0.744251</td>\n",
       "      <td>1.000000</td>\n",
       "      <td>0.874526</td>\n",
       "      <td>-0.756884</td>\n",
       "      <td>0.993784</td>\n",
       "      <td>-0.508259</td>\n",
       "      <td>-0.208496</td>\n",
       "    </tr>\n",
       "    <tr>\n",
       "      <th>TIT</th>\n",
       "      <td>0.891587</td>\n",
       "      <td>0.093067</td>\n",
       "      <td>0.029650</td>\n",
       "      <td>-0.247781</td>\n",
       "      <td>0.627254</td>\n",
       "      <td>0.874526</td>\n",
       "      <td>1.000000</td>\n",
       "      <td>-0.357320</td>\n",
       "      <td>0.887238</td>\n",
       "      <td>-0.688272</td>\n",
       "      <td>-0.231636</td>\n",
       "    </tr>\n",
       "    <tr>\n",
       "      <th>TAT</th>\n",
       "      <td>-0.720356</td>\n",
       "      <td>0.338569</td>\n",
       "      <td>-0.223479</td>\n",
       "      <td>0.010859</td>\n",
       "      <td>-0.571541</td>\n",
       "      <td>-0.756884</td>\n",
       "      <td>-0.357320</td>\n",
       "      <td>1.000000</td>\n",
       "      <td>-0.744740</td>\n",
       "      <td>0.063404</td>\n",
       "      <td>0.009888</td>\n",
       "    </tr>\n",
       "    <tr>\n",
       "      <th>CDP</th>\n",
       "      <td>0.988473</td>\n",
       "      <td>-0.100705</td>\n",
       "      <td>0.131198</td>\n",
       "      <td>-0.182010</td>\n",
       "      <td>0.727152</td>\n",
       "      <td>0.993784</td>\n",
       "      <td>0.887238</td>\n",
       "      <td>-0.744740</td>\n",
       "      <td>1.000000</td>\n",
       "      <td>-0.520783</td>\n",
       "      <td>-0.169103</td>\n",
       "    </tr>\n",
       "    <tr>\n",
       "      <th>CO</th>\n",
       "      <td>-0.541751</td>\n",
       "      <td>-0.088588</td>\n",
       "      <td>0.041614</td>\n",
       "      <td>0.165505</td>\n",
       "      <td>-0.334207</td>\n",
       "      <td>-0.508259</td>\n",
       "      <td>-0.688272</td>\n",
       "      <td>0.063404</td>\n",
       "      <td>-0.520783</td>\n",
       "      <td>1.000000</td>\n",
       "      <td>0.316743</td>\n",
       "    </tr>\n",
       "    <tr>\n",
       "      <th>NOX</th>\n",
       "      <td>-0.102631</td>\n",
       "      <td>-0.600006</td>\n",
       "      <td>0.256744</td>\n",
       "      <td>0.143061</td>\n",
       "      <td>-0.037299</td>\n",
       "      <td>-0.208496</td>\n",
       "      <td>-0.231636</td>\n",
       "      <td>0.009888</td>\n",
       "      <td>-0.169103</td>\n",
       "      <td>0.316743</td>\n",
       "      <td>1.000000</td>\n",
       "    </tr>\n",
       "  </tbody>\n",
       "</table>\n",
       "</div>"
      ],
      "text/plain": [
       "           TEY        AT        AP        AH      AFDP      GTEP       TIT  \\\n",
       "TEY   1.000000 -0.207495  0.146939 -0.110272  0.717995  0.977042  0.891587   \n",
       "AT   -0.207495  1.000000 -0.412953 -0.549432 -0.099333 -0.049103  0.093067   \n",
       "AP    0.146939 -0.412953  1.000000  0.042573  0.040318  0.078575  0.029650   \n",
       "AH   -0.110272 -0.549432  0.042573  1.000000 -0.119249 -0.202784 -0.247781   \n",
       "AFDP  0.717995 -0.099333  0.040318 -0.119249  1.000000  0.744251  0.627254   \n",
       "GTEP  0.977042 -0.049103  0.078575 -0.202784  0.744251  1.000000  0.874526   \n",
       "TIT   0.891587  0.093067  0.029650 -0.247781  0.627254  0.874526  1.000000   \n",
       "TAT  -0.720356  0.338569 -0.223479  0.010859 -0.571541 -0.756884 -0.357320   \n",
       "CDP   0.988473 -0.100705  0.131198 -0.182010  0.727152  0.993784  0.887238   \n",
       "CO   -0.541751 -0.088588  0.041614  0.165505 -0.334207 -0.508259 -0.688272   \n",
       "NOX  -0.102631 -0.600006  0.256744  0.143061 -0.037299 -0.208496 -0.231636   \n",
       "\n",
       "           TAT       CDP        CO       NOX  \n",
       "TEY  -0.720356  0.988473 -0.541751 -0.102631  \n",
       "AT    0.338569 -0.100705 -0.088588 -0.600006  \n",
       "AP   -0.223479  0.131198  0.041614  0.256744  \n",
       "AH    0.010859 -0.182010  0.165505  0.143061  \n",
       "AFDP -0.571541  0.727152 -0.334207 -0.037299  \n",
       "GTEP -0.756884  0.993784 -0.508259 -0.208496  \n",
       "TIT  -0.357320  0.887238 -0.688272 -0.231636  \n",
       "TAT   1.000000 -0.744740  0.063404  0.009888  \n",
       "CDP  -0.744740  1.000000 -0.520783 -0.169103  \n",
       "CO    0.063404 -0.520783  1.000000  0.316743  \n",
       "NOX   0.009888 -0.169103  0.316743  1.000000  "
      ]
     },
     "execution_count": 64,
     "metadata": {},
     "output_type": "execute_result"
    }
   ],
   "source": [
    "gas.corr()"
   ]
  },
  {
   "cell_type": "markdown",
   "id": "d4f3fada",
   "metadata": {},
   "source": [
    "## Heat map"
   ]
  },
  {
   "cell_type": "code",
   "execution_count": 65,
   "id": "9ae160e6",
   "metadata": {
    "ExecuteTime": {
     "end_time": "2022-11-25T12:46:54.893588Z",
     "start_time": "2022-11-25T12:46:54.881538Z"
    }
   },
   "outputs": [],
   "source": [
    "import matplotlib.pyplot as plt\n",
    "import seaborn as sns"
   ]
  },
  {
   "cell_type": "code",
   "execution_count": 66,
   "id": "65ad1850",
   "metadata": {
    "ExecuteTime": {
     "end_time": "2022-11-25T12:46:55.540717Z",
     "start_time": "2022-11-25T12:46:54.894494Z"
    }
   },
   "outputs": [
    {
     "data": {
      "image/png": "[encoded data removed]",
      "text/plain": [
       "<Figure size 1500x800 with 2 Axes>"
      ]
     },
     "metadata": {},
     "output_type": "display_data"
    }
   ],
   "source": [
    "corr = gas.corr()\n",
    "fig, ax = plt.subplots(figsize=(15, 8))\n",
    "#Generate Heat Map, allow annotations and place floats in map\n",
    "sns.heatmap(corr, cmap='coolwarm', annot=True, fmt=\".2f\")\n",
    "plt.xticks(range(len(corr.columns)), corr.columns);\n",
    "plt.yticks(range(len(corr.columns)), corr.columns)\n",
    "plt.show()"
   ]
  },
  {
   "cell_type": "markdown",
   "id": "c269e335",
   "metadata": {},
   "source": [
    "## Feature Selection by using Mutual Information  \n",
    "## Feature Selection"
   ]
  },
  {
   "cell_type": "code",
   "execution_count": 67,
   "id": "bc68868d",
   "metadata": {
    "ExecuteTime": {
     "end_time": "2022-11-25T12:46:55.556683Z",
     "start_time": "2022-11-25T12:46:55.542726Z"
    }
   },
   "outputs": [],
   "source": [
    "from sklearn.model_selection import train_test_split\n",
    "from sklearn.feature_selection import SelectKBest\n",
    "from sklearn.feature_selection import mutual_info_regression"
   ]
  },
  {
   "cell_type": "code",
   "execution_count": 68,
   "id": "a1f88e81",
   "metadata": {
    "ExecuteTime": {
     "end_time": "2022-11-25T12:46:55.572622Z",
     "start_time": "2022-11-25T12:46:55.559659Z"
    }
   },
   "outputs": [],
   "source": [
    "X = gas.iloc[:,1:]\n",
    "y = gas.iloc[:,0]"
   ]
  },
  {
   "cell_type": "code",
   "execution_count": 69,
   "id": "b9eff5e5",
   "metadata": {
    "ExecuteTime": {
     "end_time": "2022-11-25T12:46:55.588406Z",
     "start_time": "2022-11-25T12:46:55.575658Z"
    }
   },
   "outputs": [],
   "source": [
    "def select_features(X_train, y_train, X_test):\n",
    "    # configure to select all features\n",
    "    fs = SelectKBest(score_func=mutual_info_regression, k='all')\n",
    "    # learn relationship from training data\n",
    "    fs.fit(X_train, y_train)\n",
    "    # transform train input data\n",
    "    X_train_fs = fs.transform(X_train)\n",
    "    # transform test input data\n",
    "    X_test_fs = fs.transform(X_test)\n",
    "    return X_train_fs, X_test_fs, fs"
   ]
  },
  {
   "cell_type": "code",
   "execution_count": 70,
   "id": "d1aa676d",
   "metadata": {
    "ExecuteTime": {
     "end_time": "2022-11-25T12:46:56.251634Z",
     "start_time": "2022-11-25T12:46:55.591396Z"
    }
   },
   "outputs": [],
   "source": [
    "# split into train and test sets\n",
    "X_train, X_test, y_train, y_test = train_test_split(X, y, test_size=0.33, random_state=1)\n",
    "# feature selection\n",
    "X_train_fs, X_test_fs, fs = select_features(X_train, y_train, X_test)"
   ]
  },
  {
   "cell_type": "code",
   "execution_count": 71,
   "id": "da8b6b99",
   "metadata": {
    "ExecuteTime": {
     "end_time": "2022-11-25T12:46:56.392391Z",
     "start_time": "2022-11-25T12:46:56.254753Z"
    }
   },
   "outputs": [
    {
     "name": "stdout",
     "output_type": "stream",
     "text": [
      "Feature 0: 0.403500\n",
      "Feature 1: 0.145108\n",
      "Feature 2: 0.090911\n",
      "Feature 3: 0.656988\n",
      "Feature 4: 1.590436\n",
      "Feature 5: 1.303848\n",
      "Feature 6: 0.912371\n",
      "Feature 7: 1.708857\n",
      "Feature 8: 0.507086\n",
      "Feature 9: 0.303477\n"
     ]
    },
    {
     "data": {
      "image/png": "[encoded data removed]",
      "text/plain": [
       "<Figure size 1000x600 with 1 Axes>"
      ]
     },
     "metadata": {},
     "output_type": "display_data"
    }
   ],
   "source": [
    "# what are scores for the features\n",
    "for i in range(len(fs.scores_)):\n",
    "    print('Feature %d: %f' % (i, fs.scores_[i]))\n",
    "# plot the scores\n",
    "fig, ax = plt.subplots(figsize=(10, 6))\n",
    "plt.bar([i for i in range(len(fs.scores_))], fs.scores_)\n",
    "plt.show()"
   ]
  },
  {
   "cell_type": "markdown",
   "id": "0659629e",
   "metadata": {},
   "source": [
    "### As per above feature selection method, we will select only features with good score to build our model"
   ]
  },
  {
   "cell_type": "code",
   "execution_count": 72,
   "id": "469da59d",
   "metadata": {
    "ExecuteTime": {
     "end_time": "2022-11-25T12:46:56.407614Z",
     "start_time": "2022-11-25T12:46:56.394500Z"
    }
   },
   "outputs": [],
   "source": [
    "X = gas.drop(['TEY','AT','AP','AH','CO','NOX'], axis = 1)\n",
    "y = gas.iloc[:,0]"
   ]
  },
  {
   "cell_type": "code",
   "execution_count": 73,
   "id": "64793489",
   "metadata": {
    "ExecuteTime": {
     "end_time": "2022-11-25T12:46:56.439025Z",
     "start_time": "2022-11-25T12:46:56.410605Z"
    }
   },
   "outputs": [
    {
     "data": {
      "text/html": [
       "<div>\n",
       "<style scoped>\n",
       "    .dataframe tbody tr th:only-of-type {\n",
       "        vertical-align: middle;\n",
       "    }\n",
       "\n",
       "    .dataframe tbody tr th {\n",
       "        vertical-align: top;\n",
       "    }\n",
       "\n",
       "    .dataframe thead th {\n",
       "        text-align: right;\n",
       "    }\n",
       "</style>\n",
       "<table border=\"1\" class=\"dataframe\">\n",
       "  <thead>\n",
       "    <tr style=\"text-align: right;\">\n",
       "      <th></th>\n",
       "      <th>AFDP</th>\n",
       "      <th>GTEP</th>\n",
       "      <th>TIT</th>\n",
       "      <th>TAT</th>\n",
       "      <th>CDP</th>\n",
       "    </tr>\n",
       "  </thead>\n",
       "  <tbody>\n",
       "    <tr>\n",
       "      <th>0</th>\n",
       "      <td>3.5000</td>\n",
       "      <td>19.663</td>\n",
       "      <td>1059.2</td>\n",
       "      <td>550.00</td>\n",
       "      <td>10.605</td>\n",
       "    </tr>\n",
       "    <tr>\n",
       "      <th>1</th>\n",
       "      <td>3.4998</td>\n",
       "      <td>19.728</td>\n",
       "      <td>1059.3</td>\n",
       "      <td>550.00</td>\n",
       "      <td>10.598</td>\n",
       "    </tr>\n",
       "    <tr>\n",
       "      <th>2</th>\n",
       "      <td>3.4824</td>\n",
       "      <td>19.779</td>\n",
       "      <td>1059.4</td>\n",
       "      <td>549.87</td>\n",
       "      <td>10.601</td>\n",
       "    </tr>\n",
       "    <tr>\n",
       "      <th>3</th>\n",
       "      <td>3.4805</td>\n",
       "      <td>19.792</td>\n",
       "      <td>1059.6</td>\n",
       "      <td>549.99</td>\n",
       "      <td>10.606</td>\n",
       "    </tr>\n",
       "    <tr>\n",
       "      <th>4</th>\n",
       "      <td>3.4976</td>\n",
       "      <td>19.765</td>\n",
       "      <td>1059.7</td>\n",
       "      <td>549.98</td>\n",
       "      <td>10.612</td>\n",
       "    </tr>\n",
       "    <tr>\n",
       "      <th>...</th>\n",
       "      <td>...</td>\n",
       "      <td>...</td>\n",
       "      <td>...</td>\n",
       "      <td>...</td>\n",
       "      <td>...</td>\n",
       "    </tr>\n",
       "    <tr>\n",
       "      <th>15034</th>\n",
       "      <td>3.5421</td>\n",
       "      <td>19.164</td>\n",
       "      <td>1049.7</td>\n",
       "      <td>546.21</td>\n",
       "      <td>10.400</td>\n",
       "    </tr>\n",
       "    <tr>\n",
       "      <th>15035</th>\n",
       "      <td>3.5059</td>\n",
       "      <td>19.414</td>\n",
       "      <td>1046.3</td>\n",
       "      <td>543.22</td>\n",
       "      <td>10.433</td>\n",
       "    </tr>\n",
       "    <tr>\n",
       "      <th>15036</th>\n",
       "      <td>3.4770</td>\n",
       "      <td>19.530</td>\n",
       "      <td>1037.7</td>\n",
       "      <td>537.32</td>\n",
       "      <td>10.483</td>\n",
       "    </tr>\n",
       "    <tr>\n",
       "      <th>15037</th>\n",
       "      <td>3.4486</td>\n",
       "      <td>19.377</td>\n",
       "      <td>1043.2</td>\n",
       "      <td>541.24</td>\n",
       "      <td>10.533</td>\n",
       "    </tr>\n",
       "    <tr>\n",
       "      <th>15038</th>\n",
       "      <td>3.4275</td>\n",
       "      <td>19.306</td>\n",
       "      <td>1049.9</td>\n",
       "      <td>545.85</td>\n",
       "      <td>10.583</td>\n",
       "    </tr>\n",
       "  </tbody>\n",
       "</table>\n",
       "<p>15039 rows × 5 columns</p>\n",
       "</div>"
      ],
      "text/plain": [
       "         AFDP    GTEP     TIT     TAT     CDP\n",
       "0      3.5000  19.663  1059.2  550.00  10.605\n",
       "1      3.4998  19.728  1059.3  550.00  10.598\n",
       "2      3.4824  19.779  1059.4  549.87  10.601\n",
       "3      3.4805  19.792  1059.6  549.99  10.606\n",
       "4      3.4976  19.765  1059.7  549.98  10.612\n",
       "...       ...     ...     ...     ...     ...\n",
       "15034  3.5421  19.164  1049.7  546.21  10.400\n",
       "15035  3.5059  19.414  1046.3  543.22  10.433\n",
       "15036  3.4770  19.530  1037.7  537.32  10.483\n",
       "15037  3.4486  19.377  1043.2  541.24  10.533\n",
       "15038  3.4275  19.306  1049.9  545.85  10.583\n",
       "\n",
       "[15039 rows x 5 columns]"
      ]
     },
     "execution_count": 73,
     "metadata": {},
     "output_type": "execute_result"
    }
   ],
   "source": [
    "X"
   ]
  },
  {
   "cell_type": "code",
   "execution_count": 74,
   "id": "02ff73fa",
   "metadata": {
    "ExecuteTime": {
     "end_time": "2022-11-25T12:46:56.454365Z",
     "start_time": "2022-11-25T12:46:56.441463Z"
    }
   },
   "outputs": [
    {
     "data": {
      "text/plain": [
       "0        114.70\n",
       "1        114.72\n",
       "2        114.71\n",
       "3        114.72\n",
       "4        114.72\n",
       "          ...  \n",
       "15034    111.61\n",
       "15035    111.78\n",
       "15036    110.19\n",
       "15037    110.74\n",
       "15038    111.58\n",
       "Name: TEY, Length: 15039, dtype: float64"
      ]
     },
     "execution_count": 74,
     "metadata": {},
     "output_type": "execute_result"
    }
   ],
   "source": [
    "y"
   ]
  },
  {
   "cell_type": "markdown",
   "id": "335a89ca",
   "metadata": {},
   "source": [
    "### Standardizing data"
   ]
  },
  {
   "cell_type": "code",
   "execution_count": 75,
   "id": "f0e3140c",
   "metadata": {
    "ExecuteTime": {
     "end_time": "2022-11-25T12:46:56.470118Z",
     "start_time": "2022-11-25T12:46:56.456501Z"
    }
   },
   "outputs": [
    {
     "data": {
      "text/plain": [
       "StandardScaler()"
      ]
     },
     "execution_count": 75,
     "metadata": {},
     "output_type": "execute_result"
    }
   ],
   "source": [
    "from sklearn.preprocessing import StandardScaler\n",
    "scaler=StandardScaler()\n",
    "scaler.fit(X)"
   ]
  },
  {
   "cell_type": "code",
   "execution_count": 76,
   "id": "93b4ebd3",
   "metadata": {
    "ExecuteTime": {
     "end_time": "2022-11-25T12:46:56.485481Z",
     "start_time": "2022-11-25T12:46:56.472515Z"
    }
   },
   "outputs": [],
   "source": [
    "y = StandardScaler().fit_transform(y.values.reshape(len(y),1))[:,0]"
   ]
  },
  {
   "cell_type": "code",
   "execution_count": 77,
   "id": "8e731721",
   "metadata": {
    "ExecuteTime": {
     "end_time": "2022-11-25T12:46:56.516719Z",
     "start_time": "2022-11-25T12:46:56.489064Z"
    }
   },
   "outputs": [
    {
     "data": {
      "text/html": [
       "<div>\n",
       "<style scoped>\n",
       "    .dataframe tbody tr th:only-of-type {\n",
       "        vertical-align: middle;\n",
       "    }\n",
       "\n",
       "    .dataframe tbody tr th {\n",
       "        vertical-align: top;\n",
       "    }\n",
       "\n",
       "    .dataframe thead th {\n",
       "        text-align: right;\n",
       "    }\n",
       "</style>\n",
       "<table border=\"1\" class=\"dataframe\">\n",
       "  <thead>\n",
       "    <tr style=\"text-align: right;\">\n",
       "      <th></th>\n",
       "      <th>AFDP</th>\n",
       "      <th>GTEP</th>\n",
       "      <th>TIT</th>\n",
       "      <th>TAT</th>\n",
       "      <th>CDP</th>\n",
       "    </tr>\n",
       "  </thead>\n",
       "  <tbody>\n",
       "    <tr>\n",
       "      <th>0</th>\n",
       "      <td>-0.921232</td>\n",
       "      <td>-1.379101</td>\n",
       "      <td>-1.488376</td>\n",
       "      <td>0.585240</td>\n",
       "      <td>-1.357331</td>\n",
       "    </tr>\n",
       "    <tr>\n",
       "      <th>1</th>\n",
       "      <td>-0.921495</td>\n",
       "      <td>-1.363528</td>\n",
       "      <td>-1.482325</td>\n",
       "      <td>0.585240</td>\n",
       "      <td>-1.363676</td>\n",
       "    </tr>\n",
       "    <tr>\n",
       "      <th>2</th>\n",
       "      <td>-0.944385</td>\n",
       "      <td>-1.351309</td>\n",
       "      <td>-1.476275</td>\n",
       "      <td>0.568715</td>\n",
       "      <td>-1.360957</td>\n",
       "    </tr>\n",
       "    <tr>\n",
       "      <th>3</th>\n",
       "      <td>-0.946884</td>\n",
       "      <td>-1.348194</td>\n",
       "      <td>-1.464173</td>\n",
       "      <td>0.583969</td>\n",
       "      <td>-1.356424</td>\n",
       "    </tr>\n",
       "    <tr>\n",
       "      <th>4</th>\n",
       "      <td>-0.924389</td>\n",
       "      <td>-1.354663</td>\n",
       "      <td>-1.458123</td>\n",
       "      <td>0.582698</td>\n",
       "      <td>-1.350985</td>\n",
       "    </tr>\n",
       "    <tr>\n",
       "      <th>...</th>\n",
       "      <td>...</td>\n",
       "      <td>...</td>\n",
       "      <td>...</td>\n",
       "      <td>...</td>\n",
       "      <td>...</td>\n",
       "    </tr>\n",
       "    <tr>\n",
       "      <th>15034</th>\n",
       "      <td>-0.865850</td>\n",
       "      <td>-1.498657</td>\n",
       "      <td>-2.063184</td>\n",
       "      <td>0.103453</td>\n",
       "      <td>-1.543161</td>\n",
       "    </tr>\n",
       "    <tr>\n",
       "      <th>15035</th>\n",
       "      <td>-0.913470</td>\n",
       "      <td>-1.438759</td>\n",
       "      <td>-2.268905</td>\n",
       "      <td>-0.276638</td>\n",
       "      <td>-1.513247</td>\n",
       "    </tr>\n",
       "    <tr>\n",
       "      <th>15036</th>\n",
       "      <td>-0.951488</td>\n",
       "      <td>-1.410967</td>\n",
       "      <td>-2.789257</td>\n",
       "      <td>-1.026650</td>\n",
       "      <td>-1.467922</td>\n",
       "    </tr>\n",
       "    <tr>\n",
       "      <th>15037</th>\n",
       "      <td>-0.988848</td>\n",
       "      <td>-1.447624</td>\n",
       "      <td>-2.456474</td>\n",
       "      <td>-0.528337</td>\n",
       "      <td>-1.422598</td>\n",
       "    </tr>\n",
       "    <tr>\n",
       "      <th>15038</th>\n",
       "      <td>-1.016605</td>\n",
       "      <td>-1.464635</td>\n",
       "      <td>-2.051083</td>\n",
       "      <td>0.057689</td>\n",
       "      <td>-1.377273</td>\n",
       "    </tr>\n",
       "  </tbody>\n",
       "</table>\n",
       "<p>15039 rows × 5 columns</p>\n",
       "</div>"
      ],
      "text/plain": [
       "           AFDP      GTEP       TIT       TAT       CDP\n",
       "0     -0.921232 -1.379101 -1.488376  0.585240 -1.357331\n",
       "1     -0.921495 -1.363528 -1.482325  0.585240 -1.363676\n",
       "2     -0.944385 -1.351309 -1.476275  0.568715 -1.360957\n",
       "3     -0.946884 -1.348194 -1.464173  0.583969 -1.356424\n",
       "4     -0.924389 -1.354663 -1.458123  0.582698 -1.350985\n",
       "...         ...       ...       ...       ...       ...\n",
       "15034 -0.865850 -1.498657 -2.063184  0.103453 -1.543161\n",
       "15035 -0.913470 -1.438759 -2.268905 -0.276638 -1.513247\n",
       "15036 -0.951488 -1.410967 -2.789257 -1.026650 -1.467922\n",
       "15037 -0.988848 -1.447624 -2.456474 -0.528337 -1.422598\n",
       "15038 -1.016605 -1.464635 -2.051083  0.057689 -1.377273\n",
       "\n",
       "[15039 rows x 5 columns]"
      ]
     },
     "execution_count": 77,
     "metadata": {},
     "output_type": "execute_result"
    }
   ],
   "source": [
    "scaled_features=scaler.transform(X)\n",
    "gas_head=pd.DataFrame(scaled_features,columns=X.columns)\n",
    "gas_head"
   ]
  },
  {
   "cell_type": "code",
   "execution_count": 78,
   "id": "507e2330",
   "metadata": {
    "ExecuteTime": {
     "end_time": "2022-11-25T12:46:56.532620Z",
     "start_time": "2022-11-25T12:46:56.519658Z"
    }
   },
   "outputs": [],
   "source": [
    "# Splitting data into test data and train data\n",
    "\n",
    "from sklearn.model_selection import train_test_split\n",
    "\n",
    "x_train, x_test, y_train, y_test = train_test_split(X, y, test_size=0.3, random_state=1)"
   ]
  },
  {
   "cell_type": "code",
   "execution_count": 79,
   "id": "e5f15c3f",
   "metadata": {
    "ExecuteTime": {
     "end_time": "2022-11-25T12:46:56.547800Z",
     "start_time": "2022-11-25T12:46:56.535704Z"
    }
   },
   "outputs": [
    {
     "name": "stdout",
     "output_type": "stream",
     "text": [
      "Shape of x_train:  (10527, 5)\n",
      "Shape of x_test:  (4512, 5)\n",
      "Shape of y_train:  (10527,)\n",
      "Shape of y_test:  (4512,)\n"
     ]
    }
   ],
   "source": [
    "print('Shape of x_train: ', x_train.shape)\n",
    "print('Shape of x_test: ', x_test.shape)\n",
    "print('Shape of y_train: ', y_train.shape)\n",
    "print('Shape of y_test: ', y_test.shape)"
   ]
  },
  {
   "cell_type": "markdown",
   "id": "95630439",
   "metadata": {},
   "source": [
    "## Artificial Neural Network Model - Backpropagation"
   ]
  },
  {
   "cell_type": "markdown",
   "id": "12603459",
   "metadata": {},
   "source": [
    "### create model"
   ]
  },
  {
   "cell_type": "code",
   "execution_count": 80,
   "id": "d66a6dad",
   "metadata": {
    "ExecuteTime": {
     "end_time": "2022-11-25T12:46:56.595131Z",
     "start_time": "2022-11-25T12:46:56.554400Z"
    }
   },
   "outputs": [],
   "source": [
    "model = Sequential()\n",
    "model.add(Dense(10, input_dim=5, kernel_initializer='he_uniform', activation='tanh'))\n",
    "model.add(Dense(6, kernel_initializer='he_uniform', activation='tanh'))\n",
    "model.add(Dense(1, kernel_initializer='he_uniform', activation='linear'))"
   ]
  },
  {
   "cell_type": "markdown",
   "id": "a2e6bd40",
   "metadata": {},
   "source": [
    "### Compile model"
   ]
  },
  {
   "cell_type": "code",
   "execution_count": 81,
   "id": "cce992d5",
   "metadata": {
    "ExecuteTime": {
     "end_time": "2022-11-25T12:46:56.610952Z",
     "start_time": "2022-11-25T12:46:56.598082Z"
    }
   },
   "outputs": [],
   "source": [
    "model.compile(loss='mean_squared_error', optimizer='adam', metrics=['mse'])"
   ]
  },
  {
   "cell_type": "markdown",
   "id": "7bab1f8c",
   "metadata": {},
   "source": [
    "### Fit the model"
   ]
  },
  {
   "cell_type": "code",
   "execution_count": 82,
   "id": "e6af7d0f",
   "metadata": {
    "ExecuteTime": {
     "end_time": "2022-11-25T12:47:37.054245Z",
     "start_time": "2022-11-25T12:46:56.612988Z"
    }
   },
   "outputs": [
    {
     "name": "stdout",
     "output_type": "stream",
     "text": [
      "Epoch 1/100\n",
      "264/264 [==============================] - 1s 2ms/step - loss: 1.0424 - mse: 1.0424\n",
      "Epoch 2/100\n",
      "264/264 [==============================] - 0s 1ms/step - loss: 0.9944 - mse: 0.9944\n",
      "Epoch 3/100\n",
      "264/264 [==============================] - 0s 1ms/step - loss: 0.9948 - mse: 0.9948\n",
      "Epoch 4/100\n",
      "264/264 [==============================] - 0s 2ms/step - loss: 0.9949 - mse: 0.9949\n",
      "Epoch 5/100\n",
      "264/264 [==============================] - 0s 2ms/step - loss: 0.9953 - mse: 0.9953\n",
      "Epoch 6/100\n",
      "264/264 [==============================] - 0s 1ms/step - loss: 0.9951 - mse: 0.9951\n",
      "Epoch 7/100\n",
      "264/264 [==============================] - 1s 2ms/step - loss: 0.9942 - mse: 0.9942\n",
      "Epoch 8/100\n",
      "264/264 [==============================] - 0s 2ms/step - loss: 0.9942 - mse: 0.9942\n",
      "Epoch 9/100\n",
      "264/264 [==============================] - 0s 2ms/step - loss: 0.9947 - mse: 0.9947\n",
      "Epoch 10/100\n",
      "264/264 [==============================] - 0s 2ms/step - loss: 0.9940 - mse: 0.9940\n",
      "Epoch 11/100\n",
      "264/264 [==============================] - 0s 1ms/step - loss: 0.9948 - mse: 0.9948\n",
      "Epoch 12/100\n",
      "264/264 [==============================] - 0s 2ms/step - loss: 0.9939 - mse: 0.9939\n",
      "Epoch 13/100\n",
      "264/264 [==============================] - 0s 1ms/step - loss: 0.9949 - mse: 0.9949\n",
      "Epoch 14/100\n",
      "264/264 [==============================] - 0s 2ms/step - loss: 0.9933 - mse: 0.9933\n",
      "Epoch 15/100\n",
      "264/264 [==============================] - 0s 1ms/step - loss: 0.9937 - mse: 0.9937\n",
      "Epoch 16/100\n",
      "264/264 [==============================] - 0s 1ms/step - loss: 0.9942 - mse: 0.9942\n",
      "Epoch 17/100\n",
      "264/264 [==============================] - 0s 2ms/step - loss: 0.9942 - mse: 0.9942\n",
      "Epoch 18/100\n",
      "264/264 [==============================] - 0s 1ms/step - loss: 0.9941 - mse: 0.9941\n",
      "Epoch 19/100\n",
      "264/264 [==============================] - 0s 1ms/step - loss: 0.9945 - mse: 0.9945\n",
      "Epoch 20/100\n",
      "264/264 [==============================] - 0s 2ms/step - loss: 0.9938 - mse: 0.9938\n",
      "Epoch 21/100\n",
      "264/264 [==============================] - 0s 1ms/step - loss: 0.9949 - mse: 0.9949\n",
      "Epoch 22/100\n",
      "264/264 [==============================] - 0s 2ms/step - loss: 0.9939 - mse: 0.9939\n",
      "Epoch 23/100\n",
      "264/264 [==============================] - 1s 2ms/step - loss: 0.9942 - mse: 0.9942\n",
      "Epoch 24/100\n",
      "264/264 [==============================] - 1s 2ms/step - loss: 0.9935 - mse: 0.9935\n",
      "Epoch 25/100\n",
      "264/264 [==============================] - 1s 2ms/step - loss: 0.9939 - mse: 0.9939\n",
      "Epoch 26/100\n",
      "264/264 [==============================] - 1s 2ms/step - loss: 0.9942 - mse: 0.9942\n",
      "Epoch 27/100\n",
      "264/264 [==============================] - 1s 2ms/step - loss: 0.9940 - mse: 0.9940\n",
      "Epoch 28/100\n",
      "264/264 [==============================] - 1s 2ms/step - loss: 0.9946 - mse: 0.9946\n",
      "Epoch 29/100\n",
      "264/264 [==============================] - 1s 2ms/step - loss: 0.9943 - mse: 0.9943\n",
      "Epoch 30/100\n",
      "264/264 [==============================] - 0s 2ms/step - loss: 0.9931 - mse: 0.9931\n",
      "Epoch 31/100\n",
      "264/264 [==============================] - 0s 1ms/step - loss: 0.9935 - mse: 0.9935\n",
      "Epoch 32/100\n",
      "264/264 [==============================] - 0s 2ms/step - loss: 0.9935 - mse: 0.9935\n",
      "Epoch 33/100\n",
      "264/264 [==============================] - 0s 2ms/step - loss: 0.9929 - mse: 0.9929\n",
      "Epoch 34/100\n",
      "264/264 [==============================] - 0s 1ms/step - loss: 0.9944 - mse: 0.9944\n",
      "Epoch 35/100\n",
      "264/264 [==============================] - 0s 1ms/step - loss: 0.9936 - mse: 0.9936\n",
      "Epoch 36/100\n",
      "264/264 [==============================] - 0s 1ms/step - loss: 0.9942 - mse: 0.9942\n",
      "Epoch 37/100\n",
      "264/264 [==============================] - 0s 2ms/step - loss: 0.9938 - mse: 0.9938\n",
      "Epoch 38/100\n",
      "264/264 [==============================] - 0s 2ms/step - loss: 0.9937 - mse: 0.9937\n",
      "Epoch 39/100\n",
      "264/264 [==============================] - 1s 2ms/step - loss: 0.9946 - mse: 0.9946\n",
      "Epoch 40/100\n",
      "264/264 [==============================] - 0s 2ms/step - loss: 0.9935 - mse: 0.9935\n",
      "Epoch 41/100\n",
      "264/264 [==============================] - 0s 1ms/step - loss: 0.9944 - mse: 0.9944\n",
      "Epoch 42/100\n",
      "264/264 [==============================] - 0s 2ms/step - loss: 0.9935 - mse: 0.9935\n",
      "Epoch 43/100\n",
      "264/264 [==============================] - 0s 1ms/step - loss: 0.9939 - mse: 0.9939\n",
      "Epoch 44/100\n",
      "264/264 [==============================] - 0s 1ms/step - loss: 0.9939 - mse: 0.9939\n",
      "Epoch 45/100\n",
      "264/264 [==============================] - 0s 1ms/step - loss: 0.9943 - mse: 0.9943\n",
      "Epoch 46/100\n",
      "264/264 [==============================] - 0s 1ms/step - loss: 0.9937 - mse: 0.9937\n",
      "Epoch 47/100\n",
      "264/264 [==============================] - 0s 1ms/step - loss: 0.9946 - mse: 0.9946\n",
      "Epoch 48/100\n",
      "264/264 [==============================] - 0s 2ms/step - loss: 0.9938 - mse: 0.9938\n",
      "Epoch 49/100\n",
      "264/264 [==============================] - 0s 2ms/step - loss: 0.9942 - mse: 0.9942\n",
      "Epoch 50/100\n",
      "264/264 [==============================] - 0s 1ms/step - loss: 0.9943 - mse: 0.9943\n",
      "Epoch 51/100\n",
      "264/264 [==============================] - 0s 2ms/step - loss: 0.9934 - mse: 0.9934\n",
      "Epoch 52/100\n",
      "264/264 [==============================] - 0s 2ms/step - loss: 0.9937 - mse: 0.9937\n",
      "Epoch 53/100\n",
      "264/264 [==============================] - 0s 2ms/step - loss: 0.9938 - mse: 0.9938\n",
      "Epoch 54/100\n",
      "264/264 [==============================] - 0s 1ms/step - loss: 0.9933 - mse: 0.9933\n",
      "Epoch 55/100\n",
      "264/264 [==============================] - 0s 1ms/step - loss: 0.9931 - mse: 0.9931\n",
      "Epoch 56/100\n",
      "264/264 [==============================] - 0s 2ms/step - loss: 0.9945 - mse: 0.9945\n",
      "Epoch 57/100\n",
      "264/264 [==============================] - 0s 1ms/step - loss: 0.9936 - mse: 0.9936\n",
      "Epoch 58/100\n",
      "264/264 [==============================] - 0s 1ms/step - loss: 0.9942 - mse: 0.9942\n",
      "Epoch 59/100\n",
      "264/264 [==============================] - 0s 2ms/step - loss: 0.9934 - mse: 0.9934\n",
      "Epoch 60/100\n",
      "264/264 [==============================] - 0s 1ms/step - loss: 0.9936 - mse: 0.9936\n",
      "Epoch 61/100\n",
      "264/264 [==============================] - 0s 1ms/step - loss: 0.9935 - mse: 0.9935\n",
      "Epoch 62/100\n",
      "264/264 [==============================] - 0s 2ms/step - loss: 0.9937 - mse: 0.9937\n",
      "Epoch 63/100\n",
      "264/264 [==============================] - 0s 1ms/step - loss: 0.9937 - mse: 0.9937\n",
      "Epoch 64/100\n",
      "264/264 [==============================] - 0s 1ms/step - loss: 0.9939 - mse: 0.9939\n",
      "Epoch 65/100\n",
      "264/264 [==============================] - 0s 1ms/step - loss: 0.9943 - mse: 0.9943\n",
      "Epoch 66/100\n",
      "264/264 [==============================] - 0s 1ms/step - loss: 0.9937 - mse: 0.9937\n",
      "Epoch 67/100\n",
      "264/264 [==============================] - 0s 2ms/step - loss: 0.9941 - mse: 0.9941\n",
      "Epoch 68/100\n",
      "264/264 [==============================] - 0s 1ms/step - loss: 0.9933 - mse: 0.9933\n",
      "Epoch 69/100\n",
      "264/264 [==============================] - 0s 1ms/step - loss: 0.9937 - mse: 0.9937\n",
      "Epoch 70/100\n",
      "264/264 [==============================] - 0s 1ms/step - loss: 0.9937 - mse: 0.9937\n",
      "Epoch 71/100\n",
      "264/264 [==============================] - 0s 1ms/step - loss: 0.9935 - mse: 0.9935\n",
      "Epoch 72/100\n",
      "264/264 [==============================] - 0s 1ms/step - loss: 0.9934 - mse: 0.9934\n",
      "Epoch 73/100\n",
      "264/264 [==============================] - 0s 1ms/step - loss: 0.9937 - mse: 0.9937\n",
      "Epoch 74/100\n",
      "264/264 [==============================] - 0s 1ms/step - loss: 0.9941 - mse: 0.9941\n",
      "Epoch 75/100\n",
      "264/264 [==============================] - 0s 1ms/step - loss: 0.9940 - mse: 0.9940\n",
      "Epoch 76/100\n",
      "264/264 [==============================] - 0s 1ms/step - loss: 0.9935 - mse: 0.9935\n",
      "Epoch 77/100\n",
      "264/264 [==============================] - 0s 1ms/step - loss: 0.9944 - mse: 0.9944\n",
      "Epoch 78/100\n",
      "264/264 [==============================] - 0s 1ms/step - loss: 0.9932 - mse: 0.9932\n",
      "Epoch 79/100\n",
      "264/264 [==============================] - 0s 1ms/step - loss: 0.9932 - mse: 0.9932\n",
      "Epoch 80/100\n",
      "264/264 [==============================] - 0s 1ms/step - loss: 0.9936 - mse: 0.9936\n",
      "Epoch 81/100\n",
      "264/264 [==============================] - 0s 2ms/step - loss: 0.9937 - mse: 0.9937\n",
      "Epoch 82/100\n",
      "264/264 [==============================] - 0s 1ms/step - loss: 0.9930 - mse: 0.9930\n",
      "Epoch 83/100\n",
      "264/264 [==============================] - 0s 2ms/step - loss: 0.9935 - mse: 0.9935\n",
      "Epoch 84/100\n",
      "264/264 [==============================] - 0s 1ms/step - loss: 0.9939 - mse: 0.9939\n",
      "Epoch 85/100\n",
      "264/264 [==============================] - 0s 1ms/step - loss: 0.9933 - mse: 0.9933\n",
      "Epoch 86/100\n",
      "264/264 [==============================] - 0s 1ms/step - loss: 0.9928 - mse: 0.9928\n",
      "Epoch 87/100\n",
      "264/264 [==============================] - 0s 1ms/step - loss: 0.9938 - mse: 0.9938\n",
      "Epoch 88/100\n",
      "264/264 [==============================] - 0s 1ms/step - loss: 0.9934 - mse: 0.9934\n",
      "Epoch 89/100\n",
      "264/264 [==============================] - 0s 1ms/step - loss: 0.9933 - mse: 0.9933\n",
      "Epoch 90/100\n",
      "264/264 [==============================] - 0s 1ms/step - loss: 0.9933 - mse: 0.9933\n",
      "Epoch 91/100\n",
      "264/264 [==============================] - 0s 1ms/step - loss: 0.9935 - mse: 0.9935\n",
      "Epoch 92/100\n",
      "264/264 [==============================] - 0s 1ms/step - loss: 0.9936 - mse: 0.9936\n",
      "Epoch 93/100\n",
      "264/264 [==============================] - 0s 1ms/step - loss: 0.9928 - mse: 0.9928\n",
      "Epoch 94/100\n",
      "264/264 [==============================] - 0s 1ms/step - loss: 0.9934 - mse: 0.9934\n",
      "Epoch 95/100\n",
      "264/264 [==============================] - 0s 1ms/step - loss: 0.9936 - mse: 0.9936\n",
      "Epoch 96/100\n",
      "264/264 [==============================] - 0s 1ms/step - loss: 0.9936 - mse: 0.9936\n",
      "Epoch 97/100\n",
      "264/264 [==============================] - 0s 2ms/step - loss: 0.9932 - mse: 0.9932\n",
      "Epoch 98/100\n",
      "264/264 [==============================] - 0s 1ms/step - loss: 0.9943 - mse: 0.9943\n",
      "Epoch 99/100\n",
      "264/264 [==============================] - 0s 2ms/step - loss: 0.9934 - mse: 0.9934\n",
      "Epoch 100/100\n",
      "264/264 [==============================] - 1s 2ms/step - loss: 0.9938 - mse: 0.9938\n"
     ]
    },
    {
     "data": {
      "text/plain": [
       "<keras.callbacks.History at 0x1c0475d4eb0>"
      ]
     },
     "execution_count": 82,
     "metadata": {},
     "output_type": "execute_result"
    }
   ],
   "source": [
    "model.fit(x_train,y_train, epochs=100, batch_size=40)"
   ]
  },
  {
   "cell_type": "markdown",
   "id": "5a971ab9",
   "metadata": {},
   "source": [
    "### Evaluate the model"
   ]
  },
  {
   "cell_type": "code",
   "execution_count": 83,
   "id": "0df2650e",
   "metadata": {
    "ExecuteTime": {
     "end_time": "2022-11-25T12:47:37.412248Z",
     "start_time": "2022-11-25T12:47:37.056419Z"
    }
   },
   "outputs": [
    {
     "name": "stdout",
     "output_type": "stream",
     "text": [
      "141/141 [==============================] - 0s 1ms/step - loss: 1.0170 - mse: 1.0170\n",
      "mse\n"
     ]
    }
   ],
   "source": [
    "scores = model.evaluate(x_test, y_test)\n",
    "print((model.metrics_names[1]))"
   ]
  },
  {
   "cell_type": "code",
   "execution_count": null,
   "id": "897d3f3f",
   "metadata": {},
   "outputs": [],
   "source": []
  },
  {
   "cell_type": "code",
   "execution_count": null,
   "id": "d0bc16a7",
   "metadata": {},
   "outputs": [],
   "source": []
  }
 ],
 "metadata": {
  "kernelspec": {
   "display_name": "Python 3 (ipykernel)",
   "language": "python",
   "name": "python3"
  },
  "language_info": {
   "codemirror_mode": {
    "name": "ipython",
    "version": 3
   },
   "file_extension": ".py",
   "mimetype": "text/x-python",
   "name": "python",
   "nbconvert_exporter": "python",
   "pygments_lexer": "ipython3",
   "version": "3.9.13"
  }
 },
 "nbformat": 4,
 "nbformat_minor": 5
}
